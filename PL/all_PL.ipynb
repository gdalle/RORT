{
 "cells": [
  {
   "cell_type": "markdown",
   "metadata": {},
   "source": [
    "# Interdiction de plus courts chemins"
   ]
  },
  {
   "cell_type": "markdown",
   "metadata": {},
   "source": [
    "MPRO 2018/2018 - RORT\n",
    "\n",
    "*Guillaume CROGNIER, Guillaume DALLE, Olivier RIGAL*"
   ]
  },
  {
   "cell_type": "markdown",
   "metadata": {
    "ExecuteTime": {
     "end_time": "2019-02-12T14:19:53.449000+01:00",
     "start_time": "2019-02-12T13:19:52.025Z"
    }
   },
   "source": [
    "_____________"
   ]
  },
  {
   "cell_type": "code",
   "execution_count": 1,
   "metadata": {
    "ExecuteTime": {
     "end_time": "2019-02-12T15:42:53.132000+01:00",
     "start_time": "2019-02-12T14:42:50.848Z"
    }
   },
   "outputs": [],
   "source": [
    "using Random; Random.seed!(63);\n",
    "using Cbc"
   ]
  },
  {
   "cell_type": "markdown",
   "metadata": {},
   "source": [
    "Importer le générateur d'instances et les outils de graphes"
   ]
  },
  {
   "cell_type": "code",
   "execution_count": 2,
   "metadata": {
    "ExecuteTime": {
     "end_time": "2019-02-12T15:42:57.961000+01:00",
     "start_time": "2019-02-12T14:42:50.851Z"
    }
   },
   "outputs": [],
   "source": [
    "include(\"../instances_io.jl\")\n",
    "include(\"../graph_tools.jl\");"
   ]
  },
  {
   "cell_type": "markdown",
   "metadata": {},
   "source": [
    "Génération de l'instance"
   ]
  },
  {
   "cell_type": "code",
   "execution_count": 3,
   "metadata": {
    "ExecuteTime": {
     "end_time": "2019-02-12T15:42:59.048000+01:00",
     "start_time": "2019-02-12T14:42:50.853Z"
    }
   },
   "outputs": [],
   "source": [
    "l = 5 # number of lines in the grid-like graph\n",
    "c = 5 # number of columns in the grid-like graph\n",
    "k = 10 # number of edges the adversary can penalize\n",
    "maxc = 5 # range of initial edge cost\n",
    "maxd = 50 # range of penalized edge cost\n",
    "sv = generate(l, c, k, maxc, maxd);"
   ]
  },
  {
   "cell_type": "markdown",
   "metadata": {},
   "source": [
    "## 1. Partie programmation linéaire"
   ]
  },
  {
   "cell_type": "code",
   "execution_count": 4,
   "metadata": {
    "ExecuteTime": {
     "end_time": "2019-02-12T15:43:00.760000+01:00",
     "start_time": "2019-02-12T14:42:50.858Z"
    }
   },
   "outputs": [],
   "source": [
    "include(\"PL.jl\");"
   ]
  },
  {
   "cell_type": "code",
   "execution_count": 5,
   "metadata": {
    "ExecuteTime": {
     "end_time": "2019-02-12T15:43:07.103000+01:00",
     "start_time": "2019-02-12T14:42:50.859Z"
    }
   },
   "outputs": [
    {
     "data": {
      "text/plain": [
       "(35.000000000000995, x: 1 dimensions:\n",
       "[  (1, 2)] = 1.0\n",
       "[  (1, 3)] = 1.0\n",
       "[  (1, 4)] = 1.0\n",
       "[  (1, 5)] = 1.0\n",
       "[  (1, 6)] = 1.0\n",
       "[  (2, 7)] = 1.0\n",
       "[  (2, 8)] = 1.0\n",
       "[  (3, 7)] = 0.0\n",
       "[  (3, 8)] = 0.0\n",
       "[  (3, 9)] = 0.0\n",
       "[  (4, 8)] = 0.0\n",
       "[  (4, 9)] = 0.0\n",
       "[ (4, 10)] = 0.0\n",
       "[  (5, 9)] = 0.0\n",
       "[ (5, 10)] = 0.0\n",
       "[ (5, 11)] = 0.0\n",
       "[ (6, 10)] = 0.0\n",
       "[ (6, 11)] = 0.0\n",
       "[  (7, 8)] = 0.0\n",
       "[ (7, 12)] = 0.0\n",
       "[ (7, 13)] = 0.0\n",
       "[  (8, 7)] = 0.0\n",
       "[  (8, 9)] = 0.0\n",
       "[ (8, 12)] = 0.0\n",
       "[ (8, 13)] = 0.0\n",
       "[ (8, 14)] = 0.0\n",
       "[  (9, 8)] = 0.0\n",
       "[ (9, 10)] = 0.0\n",
       "[ (9, 13)] = 0.0\n",
       "[ (9, 14)] = 0.0\n",
       "[ (9, 15)] = 0.0\n",
       "[ (10, 9)] = 0.0\n",
       "[(10, 11)] = 0.0\n",
       "[(10, 14)] = 0.0\n",
       "[(10, 15)] = 0.0\n",
       "[(10, 16)] = 0.0\n",
       "[(11, 10)] = 0.0\n",
       "[(11, 15)] = 0.0\n",
       "[(11, 16)] = 0.0\n",
       "[(12, 13)] = 0.0\n",
       "[(12, 17)] = 0.0\n",
       "[(12, 18)] = 0.0\n",
       "[(13, 12)] = 0.0\n",
       "[(13, 14)] = 0.0\n",
       "[(13, 17)] = 0.0\n",
       "[(13, 18)] = 0.0\n",
       "[(13, 19)] = 0.0\n",
       "[(14, 13)] = 0.0\n",
       "[(14, 15)] = 0.0\n",
       "[(14, 18)] = 0.0\n",
       "[(14, 19)] = 0.0\n",
       "[(14, 20)] = 0.0\n",
       "[(15, 14)] = 0.0\n",
       "[(15, 16)] = 0.0\n",
       "[(15, 19)] = 0.0\n",
       "[(15, 20)] = 0.0\n",
       "[(15, 21)] = 0.0\n",
       "[(16, 15)] = 0.0\n",
       "[(16, 20)] = 0.0\n",
       "[(16, 21)] = 0.0\n",
       "[(17, 18)] = 0.0\n",
       "[(17, 22)] = 0.0\n",
       "[(17, 23)] = 0.0\n",
       "[(18, 17)] = 0.0\n",
       "[(18, 19)] = 0.0\n",
       "[(18, 22)] = 0.0\n",
       "[(18, 23)] = 0.0\n",
       "[(18, 24)] = 0.0\n",
       "[(19, 18)] = 0.0\n",
       "[(19, 20)] = 0.0\n",
       "[(19, 23)] = 0.0\n",
       "[(19, 24)] = 0.0\n",
       "[(19, 25)] = 0.0\n",
       "[(20, 19)] = 0.0\n",
       "[(20, 21)] = 0.0\n",
       "[(20, 24)] = 0.0\n",
       "[(20, 25)] = 0.0\n",
       "[(20, 26)] = 0.0\n",
       "[(21, 20)] = 0.0\n",
       "[(21, 25)] = 0.0\n",
       "[(21, 26)] = 0.0\n",
       "[(22, 27)] = 1.0\n",
       "[(23, 27)] = 0.0\n",
       "[(24, 27)] = 1.0\n",
       "[(25, 27)] = 0.0\n",
       "[(26, 27)] = 0.9999999999999999)"
      ]
     },
     "execution_count": 5,
     "metadata": {},
     "output_type": "execute_result"
    }
   ],
   "source": [
    "solve_PL1(sv, CbcSolver())"
   ]
  },
  {
   "cell_type": "code",
   "execution_count": 6,
   "metadata": {
    "ExecuteTime": {
     "end_time": "2019-02-12T15:46:05.726000+01:00",
     "start_time": "2019-02-12T14:42:50.861Z"
    }
   },
   "outputs": [
    {
     "name": "stdout",
     "output_type": "stream",
     "text": [
      "7.0 <= value <= 1.0e8\n",
      "10.0 <= value <= 182.0\n",
      "11.0 <= value <= 164.0\n",
      "13.0 <= value <= 117.0\n",
      "12.0 <= value <= 98.0\n",
      "12.0 <= value <= 94.0\n",
      "13.0 <= value <= 87.0\n",
      "12.0 <= value <= 82.0\n",
      "11.0 <= value <= 79.0\n",
      "13.0 <= value <= 66.0\n",
      "18.0 <= value <= 66.0\n",
      "14.0 <= value <= 60.0\n",
      "14.0 <= value <= 60.0\n",
      "16.0 <= value <= 58.0\n",
      "17.0 <= value <= 58.0\n",
      "15.0 <= value <= 54.0\n",
      "15.0 <= value <= 53.0\n",
      "13.0 <= value <= 53.0\n",
      "16.0 <= value <= 53.0\n",
      "14.0 <= value <= 53.0\n",
      "15.0 <= value <= 53.0\n",
      "15.0 <= value <= 53.0\n",
      "16.0 <= value <= 47.0\n",
      "8.0 <= value <= 44.0\n",
      "18.0 <= value <= 43.0\n",
      "9.0 <= value <= 43.0\n",
      "12.0 <= value <= 42.0\n",
      "13.0 <= value <= 42.0\n",
      "16.0 <= value <= 42.0\n",
      "16.0 <= value <= 42.0\n",
      "18.0 <= value <= 42.0\n",
      "19.0 <= value <= 42.0\n",
      "13.0 <= value <= 42.0\n",
      "15.0 <= value <= 42.0\n",
      "18.0 <= value <= 42.0\n",
      "19.0 <= value <= 41.0\n",
      "18.0 <= value <= 41.0\n",
      "15.0 <= value <= 41.0\n",
      "15.0 <= value <= 41.0\n",
      "15.0 <= value <= 41.0\n",
      "21.0 <= value <= 40.0\n",
      "15.0 <= value <= 40.0\n",
      "17.0 <= value <= 39.0\n",
      "16.0 <= value <= 39.0\n",
      "13.0 <= value <= 39.0\n",
      "14.0 <= value <= 39.0\n",
      "17.0 <= value <= 39.0\n",
      "14.0 <= value <= 39.0\n",
      "16.0 <= value <= 39.0\n",
      "16.0 <= value <= 39.0\n",
      "19.0 <= value <= 38.0\n",
      "33.0 <= value <= 37.0\n",
      "19.0 <= value <= 37.0\n",
      "29.0 <= value <= 36.0\n",
      "35.0 <= value <= 36.0\n",
      "29.0 <= value <= 35.0\n",
      "19.0 <= value <= 35.0\n",
      "30.0 <= value <= 35.0\n",
      "31.0 <= value <= 35.0\n",
      "31.0 <= value <= 35.0\n",
      "31.0 <= value <= 35.0\n",
      "17.0 <= value <= 35.0\n",
      "17.0 <= value <= 35.0\n",
      "33.0 <= value <= 35.0\n",
      "34.0 <= value <= 35.0\n",
      "35.0 <= value <= 35.0\n"
     ]
    },
    {
     "data": {
      "text/plain": [
       "(35.0, x: 1 dimensions:\n",
       "[  (1, 2)] = 1.0\n",
       "[  (1, 3)] = 1.0\n",
       "[  (1, 4)] = 1.0\n",
       "[  (1, 5)] = 1.0\n",
       "[  (1, 6)] = 1.0\n",
       "[  (2, 7)] = 1.0\n",
       "[  (2, 8)] = 1.0\n",
       "[  (3, 7)] = 0.0\n",
       "[  (3, 8)] = 0.0\n",
       "[  (3, 9)] = 0.0\n",
       "[  (4, 8)] = 0.0\n",
       "[  (4, 9)] = 0.0\n",
       "[ (4, 10)] = 0.0\n",
       "[  (5, 9)] = 0.0\n",
       "[ (5, 10)] = 0.0\n",
       "[ (5, 11)] = 0.0\n",
       "[ (6, 10)] = 0.0\n",
       "[ (6, 11)] = 0.0\n",
       "[  (7, 8)] = 0.0\n",
       "[ (7, 12)] = 0.0\n",
       "[ (7, 13)] = 0.0\n",
       "[  (8, 7)] = 0.0\n",
       "[  (8, 9)] = 0.0\n",
       "[ (8, 12)] = 0.0\n",
       "[ (8, 13)] = 0.0\n",
       "[ (8, 14)] = 0.0\n",
       "[  (9, 8)] = 0.0\n",
       "[ (9, 10)] = 0.0\n",
       "[ (9, 13)] = 0.0\n",
       "[ (9, 14)] = 0.0\n",
       "[ (9, 15)] = 0.0\n",
       "[ (10, 9)] = 0.0\n",
       "[(10, 11)] = 0.0\n",
       "[(10, 14)] = 0.0\n",
       "[(10, 15)] = 0.0\n",
       "[(10, 16)] = 0.0\n",
       "[(11, 10)] = 0.0\n",
       "[(11, 15)] = 0.0\n",
       "[(11, 16)] = 0.0\n",
       "[(12, 13)] = 0.0\n",
       "[(12, 17)] = 0.0\n",
       "[(12, 18)] = 0.0\n",
       "[(13, 12)] = 0.0\n",
       "[(13, 14)] = 0.0\n",
       "[(13, 17)] = 0.0\n",
       "[(13, 18)] = 0.0\n",
       "[(13, 19)] = 0.0\n",
       "[(14, 13)] = 0.0\n",
       "[(14, 15)] = 0.0\n",
       "[(14, 18)] = 0.0\n",
       "[(14, 19)] = 0.0\n",
       "[(14, 20)] = 0.0\n",
       "[(15, 14)] = 0.0\n",
       "[(15, 16)] = 0.0\n",
       "[(15, 19)] = 0.0\n",
       "[(15, 20)] = 0.0\n",
       "[(15, 21)] = 0.0\n",
       "[(16, 15)] = 0.0\n",
       "[(16, 20)] = 0.0\n",
       "[(16, 21)] = 0.0\n",
       "[(17, 18)] = 0.0\n",
       "[(17, 22)] = 0.0\n",
       "[(17, 23)] = 0.0\n",
       "[(18, 17)] = 0.0\n",
       "[(18, 19)] = 0.0\n",
       "[(18, 22)] = 0.0\n",
       "[(18, 23)] = 0.0\n",
       "[(18, 24)] = 0.0\n",
       "[(19, 18)] = 0.0\n",
       "[(19, 20)] = 0.0\n",
       "[(19, 23)] = 0.0\n",
       "[(19, 24)] = 0.0\n",
       "[(19, 25)] = 0.0\n",
       "[(20, 19)] = 0.0\n",
       "[(20, 21)] = 0.0\n",
       "[(20, 24)] = 0.0\n",
       "[(20, 25)] = 0.0\n",
       "[(20, 26)] = 0.0\n",
       "[(21, 20)] = 0.0\n",
       "[(21, 25)] = 0.0\n",
       "[(21, 26)] = 0.0\n",
       "[(22, 27)] = 1.0\n",
       "[(23, 27)] = 0.0\n",
       "[(24, 27)] = 1.0\n",
       "[(25, 27)] = 0.0\n",
       "[(26, 27)] = 1.0)"
      ]
     },
     "execution_count": 6,
     "metadata": {},
     "output_type": "execute_result"
    }
   ],
   "source": [
    "solve_PL2(sv, CbcSolver())"
   ]
  },
  {
   "cell_type": "code",
   "execution_count": 7,
   "metadata": {
    "ExecuteTime": {
     "end_time": "2019-02-12T15:46:06.893000+01:00",
     "start_time": "2019-02-12T14:42:50.863Z"
    }
   },
   "outputs": [
    {
     "name": "stderr",
     "output_type": "stream",
     "text": [
      "┌ Warning: Not solved to optimality, status: Infeasible\n",
      "└ @ JuMP /Users/guillaume/.julia/packages/JuMP/PbnIJ/src/solvers.jl:212\n",
      "┌ Warning: Infeasibility ray (Farkas proof) not available\n",
      "└ @ JuMP /Users/guillaume/.julia/packages/JuMP/PbnIJ/src/solvers.jl:223\n"
     ]
    },
    {
     "data": {
      "text/plain": [
       "(Inf32, Tuple{Int64,Int64}[(22, 27), (23, 27), (24, 27), (25, 27), (26, 27)])"
      ]
     },
     "execution_count": 7,
     "metadata": {},
     "output_type": "execute_result"
    }
   ],
   "source": [
    "solve_PL3(sv, CbcSolver())"
   ]
  }
 ],
 "metadata": {
  "kernelspec": {
   "display_name": "Julia 1.1.0",
   "language": "julia",
   "name": "julia-1.1"
  },
  "language_info": {
   "file_extension": ".jl",
   "mimetype": "application/julia",
   "name": "julia",
   "version": "1.1.0"
  }
 },
 "nbformat": 4,
 "nbformat_minor": 2
}
