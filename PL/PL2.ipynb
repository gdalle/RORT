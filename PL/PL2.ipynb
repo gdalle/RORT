{
 "cells": [
  {
   "cell_type": "markdown",
   "metadata": {},
   "source": [
    "# Interdiction de plus courts chemins"
   ]
  },
  {
   "cell_type": "markdown",
   "metadata": {},
   "source": [
    "MPRO 2018/2018 - RORT\n",
    "\n",
    "*Guillaume CROGNIER, Guillaume DALLE, Olivier RIGAL*"
   ]
  },
  {
   "cell_type": "markdown",
   "metadata": {},
   "source": [
    "## 2. Deuxième PL"
   ]
  },
  {
   "cell_type": "markdown",
   "metadata": {},
   "source": [
    "Installer les packages nécessaires"
   ]
  },
  {
   "cell_type": "code",
   "execution_count": 17,
   "metadata": {
    "ExecuteTime": {
     "end_time": "2019-02-05T14:31:33.062000+01:00",
     "start_time": "2019-02-05T13:31:33.058Z"
    }
   },
   "outputs": [],
   "source": [
    "using Pkg\n",
    "# Pkg.update()\n",
    "# Pkg.add(\"JuMP\")\n",
    "# Pkg.add(\"Cbc\")\n",
    "# Pkg.add(\"LightGraphs\")"
   ]
  },
  {
   "cell_type": "markdown",
   "metadata": {},
   "source": [
    "Importer les packages"
   ]
  },
  {
   "cell_type": "code",
   "execution_count": 18,
   "metadata": {
    "ExecuteTime": {
     "end_time": "2019-02-05T14:31:48.176000+01:00",
     "start_time": "2019-02-05T13:31:34.204Z"
    }
   },
   "outputs": [],
   "source": [
    "using JuMP\n",
    "using Cbc\n",
    "using LightGraphs, SimpleWeightedGraphs\n",
    "using Random"
   ]
  },
  {
   "cell_type": "markdown",
   "metadata": {},
   "source": [
    "Importer le générateur d'instances"
   ]
  },
  {
   "cell_type": "code",
   "execution_count": 19,
   "metadata": {
    "ExecuteTime": {
     "end_time": "2019-02-05T14:32:34.451000+01:00",
     "start_time": "2019-02-05T13:32:33.596Z"
    }
   },
   "outputs": [],
   "source": [
    "include(\"instances_io.jl\");"
   ]
  },
  {
   "cell_type": "markdown",
   "metadata": {},
   "source": [
    "### 2.1. Deuxième programme"
   ]
  },
  {
   "cell_type": "markdown",
   "metadata": {},
   "source": [
    "Génération de l'instance"
   ]
  },
  {
   "cell_type": "code",
   "execution_count": 20,
   "metadata": {
    "ExecuteTime": {
     "end_time": "2019-02-05T14:27:05.551000+01:00",
     "start_time": "2019-02-05T13:27:05.548Z"
    }
   },
   "outputs": [],
   "source": [
    "Random.seed!(63);\n",
    "l = 5 # number of lines in the grid-like graph\n",
    "c = 5 # number of columns in the grid-like graph\n",
    "k = 10 # number of edges the adversary can penalize\n",
    "maxc = 5 # range of initial edge cost\n",
    "maxd = 50 # range of penalized edge cost\n",
    "sv = generate(l, c, k, maxc, maxd);\n",
    "arcs = []\n",
    "for u in 1:sv.n, v in 1:sv.n\n",
    "    if sv.adj[u][v]\n",
    "        push!(arcs, (u,v))\n",
    "    end\n",
    "end"
   ]
  },
  {
   "cell_type": "markdown",
   "metadata": {},
   "source": [
    "Création du problème maître, ajout de l'objectif et des variables"
   ]
  },
  {
   "cell_type": "code",
   "execution_count": 21,
   "metadata": {
    "ExecuteTime": {
     "end_time": "2019-02-05T14:39:55.838000+01:00",
     "start_time": "2019-02-05T13:39:55.790Z"
    }
   },
   "outputs": [
    {
     "name": "stdout",
     "output_type": "stream",
     "text": [
      "Max z\n",
      "Subject to\n",
      " x[i] in {0,1} for all i in {(1, 2),(1, 3),..,(25, 27),(26, 27)}\n",
      " z <= 1.0e8\n"
     ]
    }
   ],
   "source": [
    "master = Model(solver=CbcSolver())\n",
    "\n",
    "x = @variable(master, x[arcs], Bin)\n",
    "z = @variable(master, z<=10e7)\n",
    "\n",
    "s, t = 1, sv.n # source and target nodes\n",
    "@objective(master, Max, z)\n",
    "\n",
    "print(master)"
   ]
  },
  {
   "cell_type": "markdown",
   "metadata": {},
   "source": [
    "Ajout des contraintes"
   ]
  },
  {
   "cell_type": "markdown",
   "metadata": {},
   "source": [
    "Pas plus de k arcs sélectionnés"
   ]
  },
  {
   "cell_type": "code",
   "execution_count": 22,
   "metadata": {},
   "outputs": [
    {
     "data": {
      "text/latex": [
       "$$ x_{(1, 2)} + x_{(1, 3)} + x_{(1, 4)} + x_{(1, 5)} + x_{(1, 6)} + x_{(2, 7)} + x_{(2, 8)} + x_{(3, 7)} + x_{(3, 8)} + x_{(3, 9)} + x_{(4, 8)} + x_{(4, 9)} + x_{(4, 10)} + x_{(5, 9)} + x_{(5, 10)} + x_{(5, 11)} + x_{(6, 10)} + x_{(6, 11)} + x_{(7, 8)} + x_{(7, 12)} + x_{(7, 13)} + x_{(8, 7)} + x_{(8, 9)} + x_{(8, 12)} + x_{(8, 13)} + x_{(8, 14)} + x_{(9, 8)} + x_{(9, 10)} + x_{(9, 13)} + x_{(9, 14)} + x_{(9, 15)} + x_{(10, 9)} + x_{(10, 11)} + x_{(10, 14)} + x_{(10, 15)} + x_{(10, 16)} + x_{(11, 10)} + x_{(11, 15)} + x_{(11, 16)} + x_{(12, 13)} + x_{(12, 17)} + x_{(12, 18)} + x_{(13, 12)} + x_{(13, 14)} + x_{(13, 17)} + x_{(13, 18)} + x_{(13, 19)} + x_{(14, 13)} + x_{(14, 15)} + x_{(14, 18)} + x_{(14, 19)} + x_{(14, 20)} + x_{(15, 14)} + x_{(15, 16)} + x_{(15, 19)} + x_{(15, 20)} + x_{(15, 21)} + x_{(16, 15)} + x_{(16, 20)} + x_{(16, 21)} + x_{(17, 18)} + x_{(17, 22)} + x_{(17, 23)} + x_{(18, 17)} + x_{(18, 19)} + x_{(18, 22)} + x_{(18, 23)} + x_{(18, 24)} + x_{(19, 18)} + x_{(19, 20)} + x_{(19, 23)} + x_{(19, 24)} + x_{(19, 25)} + x_{(20, 19)} + x_{(20, 21)} + x_{(20, 24)} + x_{(20, 25)} + x_{(20, 26)} + x_{(21, 20)} + x_{(21, 25)} + x_{(21, 26)} + x_{(22, 27)} + x_{(23, 27)} + x_{(24, 27)} + x_{(25, 27)} + x_{(26, 27)} \\leq 10 $$"
      ],
      "text/plain": [
       "x[(1, 2)] + x[(1, 3)] + x[(1, 4)] + x[(1, 5)] + x[(1, 6)] + x[(2, 7)] + x[(2, 8)] + x[(3, 7)] + x[(3, 8)] + x[(3, 9)] + x[(4, 8)] + x[(4, 9)] + x[(4, 10)] + x[(5, 9)] + x[(5, 10)] + x[(5, 11)] + x[(6, 10)] + x[(6, 11)] + x[(7, 8)] + x[(7, 12)] + x[(7, 13)] + x[(8, 7)] + x[(8, 9)] + x[(8, 12)] + x[(8, 13)] + x[(8, 14)] + x[(9, 8)] + x[(9, 10)] + x[(9, 13)] + x[(9, 14)] + x[(9, 15)] + x[(10, 9)] + x[(10, 11)] + x[(10, 14)] + x[(10, 15)] + x[(10, 16)] + x[(11, 10)] + x[(11, 15)] + x[(11, 16)] + x[(12, 13)] + x[(12, 17)] + x[(12, 18)] + x[(13, 12)] + x[(13, 14)] + x[(13, 17)] + x[(13, 18)] + x[(13, 19)] + x[(14, 13)] + x[(14, 15)] + x[(14, 18)] + x[(14, 19)] + x[(14, 20)] + x[(15, 14)] + x[(15, 16)] + x[(15, 19)] + x[(15, 20)] + x[(15, 21)] + x[(16, 15)] + x[(16, 20)] + x[(16, 21)] + x[(17, 18)] + x[(17, 22)] + x[(17, 23)] + x[(18, 17)] + x[(18, 19)] + x[(18, 22)] + x[(18, 23)] + x[(18, 24)] + x[(19, 18)] + x[(19, 20)] + x[(19, 23)] + x[(19, 24)] + x[(19, 25)] + x[(20, 19)] + x[(20, 21)] + x[(20, 24)] + x[(20, 25)] + x[(20, 26)] + x[(21, 20)] + x[(21, 25)] + x[(21, 26)] + x[(22, 27)] + x[(23, 27)] + x[(24, 27)] + x[(25, 27)] + x[(26, 27)] <= 10"
      ]
     },
     "execution_count": 22,
     "metadata": {},
     "output_type": "execute_result"
    }
   ],
   "source": [
    "@constraint(master, max_k_arcs, sum(x[(u,v)] for (u,v) in arcs) <= k)"
   ]
  },
  {
   "cell_type": "markdown",
   "metadata": {},
   "source": [
    "Sous-problème des plus courts chemins"
   ]
  },
  {
   "cell_type": "code",
   "execution_count": 23,
   "metadata": {},
   "outputs": [
    {
     "data": {
      "text/plain": [
       "PPC (generic function with 1 method)"
      ]
     },
     "execution_count": 23,
     "metadata": {},
     "output_type": "execute_result"
    }
   ],
   "source": [
    "function PPC(sv::Data, x::JuMP.JuMPArray{Float64,1,Tuple{Array{Any,1}}})\n",
    "    g = SimpleWeightedDiGraph(sv.n)\n",
    "    for (u, v) in arcs\n",
    "        penalized = x[(u,v)]\n",
    "        cost = sv.c[u][v] + penalized * sv.d[u][v]\n",
    "        add_edge!(g, u, v, cost)\n",
    "    end\n",
    "    sp = dijkstra_shortest_paths(g, 1)\n",
    "    path_cost = sp.dists[sv.n]\n",
    "    path = []\n",
    "    next_node = sv.n\n",
    "    while next_node != 0\n",
    "        prepend!(path, next_node)\n",
    "        next_node = sp.parents[next_node]\n",
    "    end\n",
    "    path2=[]\n",
    "    for i in 1:length(path)-1\n",
    "        (u,v)=(path[i],path[i+1])\n",
    "        push!(path2,(u,v))\n",
    "    end\n",
    "    return path_cost, path2\n",
    "end"
   ]
  },
  {
   "cell_type": "markdown",
   "metadata": {},
   "source": [
    "Boucle principale"
   ]
  },
  {
   "cell_type": "code",
   "execution_count": 24,
   "metadata": {},
   "outputs": [
    {
     "name": "stdout",
     "output_type": "stream",
     "text": [
      "Any[(1, 5), (5, 9), (9, 15), (15, 20), (20, 25), (25, 27)]8.0\n",
      "1.0e8\n",
      "Any[(1, 6), (6, 11), (11, 10), (10, 14), (14, 18), (18, 22), (22, 27)]9.0\n",
      "198.0\n",
      "Any[(1, 2), (2, 8), (8, 14), (14, 19), (19, 25), (25, 27)]11.0\n",
      "157.0\n",
      "Any[(1, 2), (2, 8), (8, 13), (13, 17), (17, 22), (22, 27)]11.0\n",
      "128.0\n",
      "Any[(1, 6), (6, 11), (11, 15), (15, 20), (20, 24), (24, 27)]12.0\n",
      "100.0\n",
      "Any[(1, 5), (5, 10), (10, 14), (14, 18), (18, 19), (19, 25), (25, 27)]12.0\n",
      "89.0\n",
      "Any[(1, 2), (2, 8), (8, 12), (12, 17), (17, 22), (22, 27)]13.0\n",
      "89.0\n",
      "Any[(1, 2), (2, 7), (7, 13), (13, 18), (18, 22), (22, 27)]12.0\n",
      "76.0\n",
      "Any[(1, 3), (3, 9), (9, 15), (15, 21), (21, 25), (25, 27)]12.0\n",
      "72.0\n",
      "Any[(1, 4), (4, 10), (10, 14), (14, 19), (19, 24), (24, 27)]15.0\n",
      "63.0\n",
      "Any[(1, 2), (2, 7), (7, 13), (13, 18), (18, 24), (24, 27)]16.0\n",
      "59.0\n",
      "Any[(1, 2), (2, 7), (7, 13), (13, 18), (18, 23), (23, 27)]17.0\n",
      "59.0\n",
      "Any[(1, 6), (6, 11), (11, 15), (15, 21), (21, 25), (25, 27)]11.0\n",
      "52.0\n",
      "Any[(1, 5), (5, 9), (9, 14), (14, 18), (18, 22), (22, 27)]10.0\n",
      "51.0\n",
      "Any[(1, 5), (5, 10), (10, 15), (15, 20), (20, 25), (25, 27)]11.0\n",
      "48.0\n",
      "Any[(1, 4), (4, 9), (9, 15), (15, 20), (20, 25), (25, 27)]12.0\n",
      "48.0\n",
      "Any[(1, 2), (2, 8), (8, 13), (13, 14), (14, 19), (19, 25), (25, 27)]12.0\n",
      "48.0\n",
      "Any[(1, 2), (2, 8), (8, 14), (14, 18), (18, 22), (22, 27)]14.0\n",
      "46.0\n",
      "Any[(1, 2), (2, 8), (8, 9), (9, 15), (15, 20), (20, 25), (25, 27)]12.0\n",
      "46.0\n",
      "Any[(1, 2), (2, 8), (8, 14), (14, 15), (15, 20), (20, 24), (24, 27)]14.0\n",
      "44.0\n",
      "Any[(1, 2), (2, 8), (8, 13), (13, 19), (19, 24), (24, 27)]15.0\n",
      "44.0\n",
      "Any[(1, 3), (3, 9), (9, 14), (14, 18), (18, 22), (22, 27)]13.0\n",
      "44.0\n",
      "Any[(1, 5), (5, 9), (9, 15), (15, 21), (21, 26), (26, 27)]14.0\n",
      "43.0\n",
      "Any[(1, 2), (2, 8), (8, 12), (12, 13), (13, 14), (14, 18), (18, 22), (22, 27)]13.0\n",
      "43.0\n",
      "Any[(1, 2), (2, 7), (7, 13), (13, 14), (14, 19), (19, 23), (23, 27)]17.0\n",
      "40.0\n",
      "Any[(1, 4), (4, 9), (9, 15), (15, 21), (21, 25), (25, 27)]13.0\n",
      "40.0\n",
      "Any[(1, 6), (6, 11), (11, 10), (10, 14), (14, 18), (18, 24), (24, 27)]13.0\n",
      "40.0\n",
      "Any[(1, 3), (3, 8), (8, 14), (14, 18), (18, 23), (23, 27)]16.0\n",
      "40.0\n",
      "Any[(1, 6), (6, 11), (11, 10), (10, 14), (14, 18), (18, 19), (19, 24), (24, 27)]14.0\n",
      "40.0\n",
      "Any[(1, 2), (2, 8), (8, 13), (13, 19), (19, 25), (25, 27)]13.0\n",
      "39.0\n",
      "Any[(1, 2), (2, 8), (8, 9), (9, 15), (15, 21), (21, 25), (25, 27)]13.0\n",
      "39.0\n",
      "Any[(1, 4), (4, 10), (10, 14), (14, 18), (18, 24), (24, 27)]16.0\n",
      "39.0\n",
      "Any[(1, 2), (2, 8), (8, 13), (13, 18), (18, 22), (22, 27)]33.0\n",
      "34.0\n",
      "Any[(1, 2), (2, 8), (8, 14), (14, 19), (19, 23), (23, 27)]29.0\n",
      "33.0\n",
      "Any[(1, 2), (2, 8), (8, 14), (14, 19), (19, 24), (24, 27)]32.0\n",
      "33.0\n",
      "Any[(1, 2), (2, 8), (8, 13), (13, 18), (18, 22), (22, 27)]33.0\n",
      "33.0\n",
      "33.0"
     ]
    }
   ],
   "source": [
    "obj=10e9\n",
    "spb=0\n",
    "\n",
    "while obj > spb+0.5\n",
    "\n",
    "    solve(master, relaxation=false)\n",
    "\n",
    "    x_opt = getvalue(x)\n",
    "            \n",
    "    obj = getobjectivevalue(master)\n",
    "\n",
    "    spb, y = PPC(sv,x_opt) #y est une liste d'arcs correspondant au plus court chemin dans le graphe induit par x*\n",
    "    \n",
    "    print(y)\n",
    "    \n",
    "    println(spb)\n",
    "        \n",
    "    @constraint(master, sum(sv.c[u][v] + sv.d[u][v]*x[(u,v)] for (u,v) in y) >= z)\n",
    "    \n",
    "    println(obj)\n",
    "    \n",
    "end\n",
    "\n",
    "print(obj)"
   ]
  }
 ],
 "metadata": {
  "kernelspec": {
   "display_name": "Julia 1.1.0",
   "language": "julia",
   "name": "julia-1.1"
  },
  "language_info": {
   "file_extension": ".jl",
   "mimetype": "application/julia",
   "name": "julia",
   "version": "1.1.0"
  }
 },
 "nbformat": 4,
 "nbformat_minor": 2
}
