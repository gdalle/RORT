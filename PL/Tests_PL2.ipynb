{
 "cells": [
  {
   "cell_type": "code",
   "execution_count": 6,
   "metadata": {},
   "outputs": [
    {
     "name": "stdout",
     "output_type": "stream",
     "text": [
      "10.0 <= value <= 1.0e8\n",
      "13.0 <= value <= 138.0\n",
      "19.0 <= value <= 138.0\n",
      "43.0 <= value <= 116.0\n",
      "18.0 <= value <= 98.0\n",
      "44.0 <= value <= 95.0\n",
      "48.0 <= value <= 87.0\n",
      "48.0 <= value <= 87.0\n",
      "57.0 <= value <= 76.0\n",
      "44.0 <= value <= 76.0\n",
      "47.0 <= value <= 76.0\n",
      "49.0 <= value <= 76.0\n",
      "61.0 <= value <= 75.0\n",
      "64.0 <= value <= 67.0\n",
      "67.0 <= value <= 67.0\n",
      "13.0 <= value <= 1.0e8\n",
      "14.0 <= value <= 198.0\n",
      "16.0 <= value <= 145.0\n",
      "52.0 <= value <= 135.0\n",
      "19.0 <= value <= 104.0\n",
      "19.0 <= value <= 92.0\n",
      "51.0 <= value <= 92.0\n",
      "49.0 <= value <= 87.0\n",
      "48.0 <= value <= 87.0\n",
      "18.0 <= value <= 81.0\n",
      "51.0 <= value <= 80.0\n",
      "50.0 <= value <= 77.0\n",
      "51.0 <= value <= 77.0\n",
      "56.0 <= value <= 76.0\n",
      "51.0 <= value <= 74.0\n",
      "53.0 <= value <= 74.0\n",
      "51.0 <= value <= 74.0\n",
      "22.0 <= value <= 74.0\n",
      "54.0 <= value <= 70.0\n",
      "19.0 <= value <= 69.0\n",
      "19.0 <= value <= 67.0\n",
      "54.0 <= value <= 65.0\n",
      "50.0 <= value <= 65.0\n",
      "18.0 <= value <= 65.0\n",
      "52.0 <= value <= 64.0\n",
      "54.0 <= value <= 64.0\n",
      "52.0 <= value <= 64.0\n",
      "54.0 <= value <= 64.0\n",
      "52.0 <= value <= 64.0\n",
      "54.0 <= value <= 64.0\n",
      "59.0 <= value <= 63.0\n",
      "61.0 <= value <= 63.0\n",
      "52.0 <= value <= 62.0\n",
      "53.0 <= value <= 61.0\n",
      "54.0 <= value <= 61.0\n",
      "55.0 <= value <= 61.0\n",
      "54.0 <= value <= 61.0\n",
      "52.0 <= value <= 61.0\n",
      "55.0 <= value <= 61.0\n",
      "56.0 <= value <= 61.0\n",
      "54.0 <= value <= 61.0\n",
      "61.0 <= value <= 61.0\n"
     ]
    },
    {
     "data": {
      "text/plain": [
       "\"dataframe.csv\""
      ]
     },
     "execution_count": 6,
     "metadata": {},
     "output_type": "execute_result"
    }
   ],
   "source": [
    "using DataFrames\n",
    "using CSV\n",
    "using Cbc\n",
    "include(\"../instances_io.jl\")\n",
    "include(\"PL.jl\");\n",
    "\n",
    "L = [3] # number of lines in the grid-like graph\n",
    "C = [3,4,5,6,7,8] # number of columns in the grid-like graph\n",
    "K = [1,2,3,4,5,6,7,8,9,10,12,14,16,18,20] # number of edges the adversary can penalize\n",
    "MAXC = 5 # range of initial edge cost\n",
    "MAXD = [0,1,2,3,4,5,6,7,8,9,10,20,30,40,50,75,100] # range of penalized edge cost\n",
    "l = 5 # number of lines in the grid-like graph\n",
    "c = 5 # number of columns in the grid-like graph\n",
    "k = 10 # number of edges the adversary can penalize\n",
    "maxc = 5 # range of initial edge cost\n",
    "maxd = 50 # range of penalized edge cost\n",
    "\n",
    "df = DataFrame(Param = String[], Param_value = Int[], Iteration=Int[], Time=Float64[], Cuts=Int[])\n",
    "for l in L\n",
    "    for it in 1:2\n",
    "        sv = generate(l, c, k, maxc, maxd);\n",
    "        timer = @elapsed obj, x_opt, count = solve_PL2(sv, CbcSolver())\n",
    "        push!(df, (\"l\", l, it, timer, count))\n",
    "    end\n",
    "end\n",
    "CSV.write(\"dataframe.csv\", df)\n",
    "        "
   ]
  },
  {
   "cell_type": "code",
   "execution_count": null,
   "metadata": {},
   "outputs": [],
   "source": []
  }
 ],
 "metadata": {
  "kernelspec": {
   "display_name": "Julia 1.1.0",
   "language": "julia",
   "name": "julia-1.1"
  },
  "language_info": {
   "file_extension": ".jl",
   "mimetype": "application/julia",
   "name": "julia",
   "version": "1.1.0"
  }
 },
 "nbformat": 4,
 "nbformat_minor": 2
}
