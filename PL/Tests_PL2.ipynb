{
 "cells": [
  {
   "cell_type": "code",
   "execution_count": 3,
   "metadata": {},
   "outputs": [
    {
     "ename": "UndefVarError",
     "evalue": "UndefVarError: CbcSolver not defined",
     "output_type": "error",
     "traceback": [
      "UndefVarError: CbcSolver not defined",
      "",
      "Stacktrace:",
      " [1] solve_PL1(::Data, ::CplexSolver) at D:\\Travail\\X\\4A\\RORT\\git\\PL\\PL.jl:15",
      " [2] macro expansion at .\\util.jl:213 [inlined]",
      " [3] top-level scope at .\\In[3]:41"
     ]
    }
   ],
   "source": [
    "using DataFrames\n",
    "using CSV\n",
    "using CPLEX\n",
    "include(\"../instances_io.jl\")\n",
    "include(\"PL.jl\");\n",
    "include(\"../Heur/Heur.jl\")\n",
    "\n",
    "L = [3,4,5,6,7,8] # number of lines in the grid-like graph\n",
    "C = [3,4,5,6,7,8] # number of columns in the grid-like graph\n",
    "K = [1,2,3,4,5,6,7,8,9,10,12,14,16,18,20] # number of edges the adversary can penalize\n",
    "MAXC = 5 # range of initial edge cost\n",
    "MAXD = [0,1,2,3,4,5,6,7,8,9,10,20,30,40,50,75,100] # range of penalized edge cost\n",
    "l = 5 # number of lines in the grid-like graph\n",
    "c = 5 # number of columns in the grid-like graph\n",
    "k = 10 # number of edges the adversary can penalize\n",
    "maxc = 5 # range of initial edge cost\n",
    "maxd = 50 # range of penalized edge cost\n",
    "\n",
    "df = DataFrame(PL=Int[], Param = String[], Param_value = Int[], Iteration=Int[], Time=Float64[], Cuts=Int[])\n",
    "for par in [L,C,K,MAXD]\n",
    "    l = 5 # number of lines in the grid-like graph\n",
    "    c = 5 # number of columns in the grid-like graph\n",
    "    k = 10 # number of edges the adversary can penalize\n",
    "    maxc = 5 # range of initial edge cost\n",
    "    maxd = 50 # range of penalized edge cost\n",
    "    for par_value in par\n",
    "        for it in 1:1\n",
    "            if par==L\n",
    "                sv = generate(par_value, c, k, maxc, maxd)\n",
    "                name=\"L\"\n",
    "            elseif par==C\n",
    "                sv = generate(l, par_value, k, maxc, maxd)\n",
    "                name=\"C\"\n",
    "            elseif par==K\n",
    "                sv = generate(l, c, par_value, maxc, maxd)\n",
    "                name=\"K\"\n",
    "            else\n",
    "                sv = generate(l, c, k, maxc, par_value)\n",
    "                name=\"MAXD\"\n",
    "            end\n",
    "            timer = @elapsed obj, x_opt = solve_PL1(sv, CplexSolver(CPX_PARAM_MIPDISPLAY=0))\n",
    "            push!(df, (1, name, par_value, it, timer, 0))\n",
    "            timer = @elapsed obj, x_opt, count = solve_PL2(sv, CplexSolver(CPX_PARAM_MIPDISPLAY=0))\n",
    "            push!(df, (2, name, par_value, it, timer, count))\n",
    "            timer = @elapsed obj, x_opt, count = solve_PL3(sv, CplexSolver(CPX_PARAM_MIPDISPLAY=0))\n",
    "            push!(df, (3, name, par_value, it, timer, count))\n",
    "            timer = @elapsed obj, x_opt = tree_search(sv, 100)\n",
    "            push!(df, (4, name, par_value, it, timer, 0))\n",
    "            CSV.write(\"Results.csv\", df)\n",
    "        end\n",
    "    end\n",
    "end\n",
    "\n",
    "        "
   ]
  },
  {
   "cell_type": "code",
   "execution_count": null,
   "metadata": {},
   "outputs": [],
   "source": []
  }
 ],
 "metadata": {
  "kernelspec": {
   "display_name": "Julia 1.1.0",
   "language": "julia",
   "name": "julia-1.1"
  },
  "language_info": {
   "file_extension": ".jl",
   "mimetype": "application/julia",
   "name": "julia",
   "version": "1.1.0"
  }
 },
 "nbformat": 4,
 "nbformat_minor": 2
}
