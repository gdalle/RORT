{
 "cells": [
  {
   "cell_type": "markdown",
   "metadata": {},
   "source": [
    "# Interdiction de plus courts chemins"
   ]
  },
  {
   "cell_type": "markdown",
   "metadata": {},
   "source": [
    "MPRO 2018/2018 - RORT\n",
    "\n",
    "*Guillaume CROGNIER, Guillaume DALLE, Olivier RIGAL*"
   ]
  },
  {
   "cell_type": "markdown",
   "metadata": {},
   "source": [
    "## 1. Partie programmation linéaire"
   ]
  },
  {
   "cell_type": "markdown",
   "metadata": {},
   "source": [
    "Installer les packages nécessaires"
   ]
  },
  {
   "cell_type": "code",
   "execution_count": 1,
   "metadata": {
    "ExecuteTime": {
     "end_time": "2019-02-05T15:00:10.070000+01:00",
     "start_time": "2019-02-05T14:00:08.786Z"
    }
   },
   "outputs": [],
   "source": [
    "using Pkg\n",
    "# Pkg.update()\n",
    "# Pkg.add(\"JuMP\")\n",
    "# Pkg.add(\"Cbc\")"
   ]
  },
  {
   "cell_type": "markdown",
   "metadata": {},
   "source": [
    "Importer les packages"
   ]
  },
  {
   "cell_type": "code",
   "execution_count": 2,
   "metadata": {
    "ExecuteTime": {
     "end_time": "2019-02-05T15:00:13.209000+01:00",
     "start_time": "2019-02-05T14:00:08.787Z"
    }
   },
   "outputs": [],
   "source": [
    "using JuMP\n",
    "using Cbc"
   ]
  },
  {
   "cell_type": "markdown",
   "metadata": {},
   "source": [
    "Importer le générateur d'instances"
   ]
  },
  {
   "cell_type": "code",
   "execution_count": 3,
   "metadata": {
    "ExecuteTime": {
     "end_time": "2019-02-05T15:00:14.419000+01:00",
     "start_time": "2019-02-05T14:00:08.789Z"
    }
   },
   "outputs": [],
   "source": [
    "include(\"instances_io.jl\");"
   ]
  },
  {
   "cell_type": "markdown",
   "metadata": {},
   "source": [
    "### 1.1. Premier programme"
   ]
  },
  {
   "cell_type": "markdown",
   "metadata": {},
   "source": [
    "Génération de l'instance"
   ]
  },
  {
   "cell_type": "code",
   "execution_count": 4,
   "metadata": {
    "ExecuteTime": {
     "end_time": "2019-02-05T15:00:14.640000+01:00",
     "start_time": "2019-02-05T14:00:08.790Z"
    }
   },
   "outputs": [],
   "source": [
    "l = 5 # number of lines in the grid-like graph\n",
    "c = 5 # number of columns in the grid-like graph\n",
    "k = 10 # number of edges the adversary can penalize\n",
    "maxc = 5 # range of initial edge cost\n",
    "maxd = 50 # range of penalized edge cost\n",
    "sv = generate(l, c, k, maxc, maxd);"
   ]
  },
  {
   "cell_type": "markdown",
   "metadata": {},
   "source": [
    "**Création du modèle**"
   ]
  },
  {
   "cell_type": "markdown",
   "metadata": {},
   "source": [
    "Liste des arcs"
   ]
  },
  {
   "cell_type": "code",
   "execution_count": 5,
   "metadata": {
    "ExecuteTime": {
     "end_time": "2019-02-05T15:00:14.779000+01:00",
     "start_time": "2019-02-05T14:00:08.791Z"
    }
   },
   "outputs": [],
   "source": [
    "arcs = [(u, v) for u in 1:sv.n for v in 1:sv.n if sv.adj[u][v]];"
   ]
  },
  {
   "cell_type": "markdown",
   "metadata": {},
   "source": [
    "Ajout de l'objectif et des variables"
   ]
  },
  {
   "cell_type": "code",
   "execution_count": 6,
   "metadata": {
    "ExecuteTime": {
     "end_time": "2019-02-05T15:00:19.055000+01:00",
     "start_time": "2019-02-05T14:00:08.793Z"
    }
   },
   "outputs": [
    {
     "name": "stdout",
     "output_type": "stream",
     "text": [
      "Max pi[27] - pi[1]\n",
      "Subject to\n",
      " x[i] ∈ {0,1} ∀ i ∈ {(1, 2),(1, 3),…,(25, 27),(26, 27)}\n",
      " pi[i] ∀ i ∈ {1,2,…,26,27}\n"
     ]
    }
   ],
   "source": [
    "m = Model(solver=CbcSolver())\n",
    "\n",
    "x = @variable(m, x[arcs], Bin)\n",
    "@variable(m, pi[1:sv.n])\n",
    "\n",
    "s, t = 1, sv.n # source and target nodes\n",
    "@objective(m, Max, pi[t] - pi[s])\n",
    "\n",
    "print(m)"
   ]
  },
  {
   "cell_type": "markdown",
   "metadata": {},
   "source": [
    "**Ajout des contraintes**"
   ]
  },
  {
   "cell_type": "markdown",
   "metadata": {},
   "source": [
    "L'adversaire ne peut pas pénaliser plus de $k$ arcs"
   ]
  },
  {
   "cell_type": "code",
   "execution_count": 7,
   "metadata": {
    "ExecuteTime": {
     "end_time": "2019-02-05T15:00:19.668000+01:00",
     "start_time": "2019-02-05T14:00:08.795Z"
    }
   },
   "outputs": [],
   "source": [
    "@constraint(m, sum(x) <= k);"
   ]
  },
  {
   "cell_type": "markdown",
   "metadata": {},
   "source": [
    "La pénalisation augmente le coût $c(u, v)$ d'un arc de $d(u, v)$"
   ]
  },
  {
   "cell_type": "code",
   "execution_count": 8,
   "metadata": {
    "ExecuteTime": {
     "end_time": "2019-02-05T15:00:20.158000+01:00",
     "start_time": "2019-02-05T14:00:08.796Z"
    }
   },
   "outputs": [],
   "source": [
    "for (u, v) in arcs\n",
    "    @constraint(m, pi[v] - pi[u] - sv.d[u][v] * x[(u, v)] <= sv.c[u][v])\n",
    "end"
   ]
  },
  {
   "cell_type": "markdown",
   "metadata": {},
   "source": [
    "**Résolution**"
   ]
  },
  {
   "cell_type": "code",
   "execution_count": 9,
   "metadata": {
    "ExecuteTime": {
     "end_time": "2019-02-05T15:00:23.335000+01:00",
     "start_time": "2019-02-05T14:00:08.798Z"
    }
   },
   "outputs": [
    {
     "name": "stdout",
     "output_type": "stream",
     "text": [
      "Status Optimal\n",
      "Objective 38.000000000001\n"
     ]
    }
   ],
   "source": [
    "status = solve(m)\n",
    "obj = getobjectivevalue(m)\n",
    "println(\"Status \", status)\n",
    "println(\"Objective \", obj)"
   ]
  }
 ],
 "metadata": {
  "kernelspec": {
   "display_name": "Julia 1.0.3",
   "language": "julia",
   "name": "julia-1.0"
  },
  "language_info": {
   "file_extension": ".jl",
   "mimetype": "application/julia",
   "name": "julia",
   "version": "1.0.3"
  }
 },
 "nbformat": 4,
 "nbformat_minor": 2
}
