{
 "cells": [
  {
   "cell_type": "markdown",
   "metadata": {},
   "source": [
    "# Interdiction de plus courts chemins"
   ]
  },
  {
   "cell_type": "markdown",
   "metadata": {},
   "source": [
    "MPRO 2018/2018 - RORT\n",
    "\n",
    "*Guillaume CROGNIER, Guillaume DALLE, Olivier RIGAL*"
   ]
  },
  {
   "cell_type": "markdown",
   "metadata": {},
   "source": [
    "## 1. Partie programmation linéaire"
   ]
  },
  {
   "cell_type": "markdown",
   "metadata": {},
   "source": [
    "Installer les packages nécessaires"
   ]
  },
  {
   "cell_type": "code",
   "execution_count": 1,
   "metadata": {
    "ExecuteTime": {
     "end_time": "2019-02-05T15:36:19.469000+01:00",
     "start_time": "2019-02-05T14:36:18.129Z"
    }
   },
   "outputs": [],
   "source": [
    "using Pkg\n",
    "# Pkg.update()\n",
    "# Pkg.add(\"Random\")\n",
    "# Pkg.add(\"JuMP\")\n",
    "# Pkg.add(\"Cbc\")"
   ]
  },
  {
   "cell_type": "markdown",
   "metadata": {},
   "source": [
    "Importer les packages nécessaires"
   ]
  },
  {
   "cell_type": "code",
   "execution_count": 2,
   "metadata": {
    "ExecuteTime": {
     "end_time": "2019-02-05T15:36:22.425000+01:00",
     "start_time": "2019-02-05T14:36:18.132Z"
    }
   },
   "outputs": [],
   "source": [
    "using Random\n",
    "using MathProgBase\n",
    "using JuMP\n",
    "using Cbc"
   ]
  },
  {
   "cell_type": "markdown",
   "metadata": {},
   "source": [
    "Définir une graine aléatoire pour des expériences reproductibles"
   ]
  },
  {
   "cell_type": "code",
   "execution_count": 3,
   "metadata": {
    "ExecuteTime": {
     "end_time": "2019-02-05T15:36:23.403000+01:00",
     "start_time": "2019-02-05T14:36:18.134Z"
    }
   },
   "outputs": [],
   "source": [
    "Random.seed!(63);"
   ]
  },
  {
   "cell_type": "markdown",
   "metadata": {},
   "source": [
    "Importer le générateur d'instances"
   ]
  },
  {
   "cell_type": "code",
   "execution_count": 4,
   "metadata": {
    "ExecuteTime": {
     "end_time": "2019-02-05T15:36:23.596000+01:00",
     "start_time": "2019-02-05T14:36:18.135Z"
    }
   },
   "outputs": [],
   "source": [
    "include(\"instances_io.jl\");"
   ]
  },
  {
   "cell_type": "markdown",
   "metadata": {},
   "source": [
    "### 1.1. Premier programme"
   ]
  },
  {
   "cell_type": "markdown",
   "metadata": {},
   "source": [
    "Génération de l'instance"
   ]
  },
  {
   "cell_type": "code",
   "execution_count": 5,
   "metadata": {
    "ExecuteTime": {
     "end_time": "2019-02-05T15:36:23.740000+01:00",
     "start_time": "2019-02-05T14:36:18.136Z"
    }
   },
   "outputs": [],
   "source": [
    "l = 5 # number of lines in the grid-like graph\n",
    "c = 5 # number of columns in the grid-like graph\n",
    "k = 10 # number of edges the adversary can penalize\n",
    "maxc = 5 # range of initial edge cost\n",
    "maxd = 50 # range of penalized edge cost\n",
    "sv = generate(l, c, k, maxc, maxd);"
   ]
  },
  {
   "cell_type": "markdown",
   "metadata": {},
   "source": [
    "**Création du modèle**"
   ]
  },
  {
   "cell_type": "markdown",
   "metadata": {},
   "source": [
    "Liste des arcs"
   ]
  },
  {
   "cell_type": "code",
   "execution_count": 6,
   "metadata": {
    "ExecuteTime": {
     "end_time": "2019-02-05T15:36:23.800000+01:00",
     "start_time": "2019-02-05T14:36:18.138Z"
    }
   },
   "outputs": [],
   "source": [
    "arcs = []\n",
    "for u in 1:sv.n, v in 1:sv.n\n",
    "    if sv.adj[u][v]\n",
    "        push!(arcs, (u, v))\n",
    "    end\n",
    "end"
   ]
  },
  {
   "cell_type": "markdown",
   "metadata": {},
   "source": [
    "Ajout de l'objectif et des variables"
   ]
  },
  {
   "cell_type": "code",
   "execution_count": 7,
   "metadata": {
    "ExecuteTime": {
     "end_time": "2019-02-05T15:36:27.886000+01:00",
     "start_time": "2019-02-05T14:36:18.139Z"
    }
   },
   "outputs": [
    {
     "name": "stdout",
     "output_type": "stream",
     "text": [
      "Max pi[27] - pi[1]\n",
      "Subject to\n",
      " x[i] ∈ {0,1} ∀ i ∈ {(1, 2),(1, 3),…,(25, 27),(26, 27)}\n",
      " pi[i] ∀ i ∈ {1,2,…,26,27}\n"
     ]
    }
   ],
   "source": [
    "m = Model(solver=CbcSolver())\n",
    "\n",
    "@variable(m, x[arcs], Bin)\n",
    "@variable(m, pi[1:sv.n])\n",
    "\n",
    "@objective(m, Max, pi[sv.n] - pi[1])\n",
    "\n",
    "print(m)"
   ]
  },
  {
   "cell_type": "markdown",
   "metadata": {},
   "source": [
    "**Ajout des contraintes**"
   ]
  },
  {
   "cell_type": "markdown",
   "metadata": {},
   "source": [
    "L'adversaire ne peut pas pénaliser plus de $k$ arcs"
   ]
  },
  {
   "cell_type": "code",
   "execution_count": 8,
   "metadata": {
    "ExecuteTime": {
     "end_time": "2019-02-05T15:36:28.484000+01:00",
     "start_time": "2019-02-05T14:36:18.140Z"
    }
   },
   "outputs": [],
   "source": [
    "@constraint(m, sum(x) <= k);"
   ]
  },
  {
   "cell_type": "markdown",
   "metadata": {},
   "source": [
    "La pénalisation augmente le coût $c(u, v)$ d'un arc de $d(u, v)$"
   ]
  },
  {
   "cell_type": "code",
   "execution_count": 9,
   "metadata": {
    "ExecuteTime": {
     "end_time": "2019-02-05T15:36:28.870000+01:00",
     "start_time": "2019-02-05T14:36:18.142Z"
    }
   },
   "outputs": [],
   "source": [
    "for (u, v) in arcs\n",
    "    @constraint(m, pi[v] - pi[u] - sv.d[u][v] * x[(u, v)] <= sv.c[u][v])\n",
    "end"
   ]
  },
  {
   "cell_type": "markdown",
   "metadata": {},
   "source": [
    "**Résolution**"
   ]
  },
  {
   "cell_type": "code",
   "execution_count": 10,
   "metadata": {
    "ExecuteTime": {
     "end_time": "2019-02-05T15:36:31.880000+01:00",
     "start_time": "2019-02-05T14:36:18.143Z"
    }
   },
   "outputs": [
    {
     "name": "stdout",
     "output_type": "stream",
     "text": [
      "Status Optimal\n",
      "Objective 33.000000000003\n"
     ]
    }
   ],
   "source": [
    "t = @elapsed(status = solve(m))\n",
    "obj = getobjectivevalue(m)\n",
    "x_val = getvalue(x)\n",
    "pi_val = getvalue(pi)\n",
    "println(\"Status \", status)\n",
    "println(\"Objective \", obj)"
   ]
  },
  {
   "cell_type": "markdown",
   "metadata": {},
   "source": [
    "**Tout d'un coup**"
   ]
  },
  {
   "cell_type": "code",
   "execution_count": 11,
   "metadata": {
    "ExecuteTime": {
     "end_time": "2019-02-05T15:36:32.564000+01:00",
     "start_time": "2019-02-05T14:36:18.145Z"
    }
   },
   "outputs": [
    {
     "data": {
      "text/plain": [
       "solve_LP1 (generic function with 1 method)"
      ]
     },
     "execution_count": 11,
     "metadata": {},
     "output_type": "execute_result"
    }
   ],
   "source": [
    "function solve_LP1(sv::Data, solver::MathProgBase.SolverInterface.AbstractMathProgSolver)\n",
    "   \n",
    "    arcs::Array{Tuple{Int, Int}, 1} = []\n",
    "    for u in 1:sv.n, v in 1:sv.n\n",
    "        if sv.adj[u][v]\n",
    "            push!(arcs, (u, v))\n",
    "        end\n",
    "    end\n",
    "                \n",
    "    m::Model = Model(solver=CbcSolver())\n",
    "\n",
    "    @variable(m, x[arcs], Bin)\n",
    "    @variable(m, pi[1:sv.n])\n",
    "\n",
    "    @objective(m, Max, pi[sv.n] - pi[1])\n",
    "    \n",
    "    @constraint(m, sum(x) <= k);            \n",
    "                \n",
    "    for (u, v) in arcs\n",
    "        @constraint(m, pi[v] - pi[u] - sv.d[u][v] * x[(u, v)] <= sv.c[u][v])\n",
    "    end\n",
    "                \n",
    "    solve_time::Float64 = @elapsed(status::Symbol = solve(m))\n",
    "    obj::Float64 = getobjectivevalue(m)\n",
    "    return status, obj, solve_time\n",
    "\n",
    "end"
   ]
  },
  {
   "cell_type": "code",
   "execution_count": 12,
   "metadata": {
    "ExecuteTime": {
     "end_time": "2019-02-05T15:36:33.833000+01:00",
     "start_time": "2019-02-05T14:36:18.147Z"
    }
   },
   "outputs": [
    {
     "data": {
      "text/plain": [
       "(:Optimal, 33.000000000003, 0.486090657)"
      ]
     },
     "execution_count": 12,
     "metadata": {},
     "output_type": "execute_result"
    }
   ],
   "source": [
    "solve_LP1(sv, CbcSolver())"
   ]
  }
 ],
 "metadata": {
  "kernelspec": {
   "display_name": "Julia 1.0.3",
   "language": "julia",
   "name": "julia-1.0"
  },
  "language_info": {
   "file_extension": ".jl",
   "mimetype": "application/julia",
   "name": "julia",
   "version": "1.0.3"
  }
 },
 "nbformat": 4,
 "nbformat_minor": 2
}
