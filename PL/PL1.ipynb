{
 "cells": [
  {
   "cell_type": "markdown",
   "metadata": {},
   "source": [
    "# Interdiction de plus courts chemins"
   ]
  },
  {
   "cell_type": "markdown",
   "metadata": {},
   "source": [
    "MPRO 2018/2018 - RORT\n",
    "\n",
    "*Guillaume CROGNIER, Guillaume DALLE, Olivier RIGAL*"
   ]
  },
  {
   "cell_type": "markdown",
   "metadata": {},
   "source": [
    "## 1. Partie programmation linéaire"
   ]
  },
  {
   "cell_type": "markdown",
   "metadata": {},
   "source": [
    "Installer les packages nécessaires"
   ]
  },
  {
   "cell_type": "code",
   "execution_count": 11,
   "metadata": {
    "ExecuteTime": {
     "end_time": "2019-02-05T14:31:33.062000+01:00",
     "start_time": "2019-02-05T13:31:33.058Z"
    }
   },
   "outputs": [],
   "source": [
    "using Pkg\n",
    "# Pkg.update()\n",
    "# Pkg.add(\"JuMP\")\n",
    "# Pkg.add(\"Cbc\")"
   ]
  },
  {
   "cell_type": "markdown",
   "metadata": {},
   "source": [
    "Importer les packages"
   ]
  },
  {
   "cell_type": "code",
   "execution_count": 12,
   "metadata": {
    "ExecuteTime": {
     "end_time": "2019-02-05T14:31:48.176000+01:00",
     "start_time": "2019-02-05T13:31:34.204Z"
    }
   },
   "outputs": [
    {
     "name": "stderr",
     "output_type": "stream",
     "text": [
      "┌ Info: Precompiling Cbc [9961bab8-2fa3-5c5a-9d89-47fab24efd76]\n",
      "└ @ Base loading.jl:1192\n"
     ]
    }
   ],
   "source": [
    "using JuMP\n",
    "using Cbc"
   ]
  },
  {
   "cell_type": "markdown",
   "metadata": {},
   "source": [
    "Importer le générateur d'instances"
   ]
  },
  {
   "cell_type": "code",
   "execution_count": 13,
   "metadata": {
    "ExecuteTime": {
     "end_time": "2019-02-05T14:32:34.451000+01:00",
     "start_time": "2019-02-05T13:32:33.596Z"
    }
   },
   "outputs": [],
   "source": [
    "include(\"instances_io.jl\");"
   ]
  },
  {
   "cell_type": "markdown",
   "metadata": {},
   "source": [
    "### 1.1. Premier programme"
   ]
  },
  {
   "cell_type": "markdown",
   "metadata": {},
   "source": [
    "Génération de l'instance"
   ]
  },
  {
   "cell_type": "code",
   "execution_count": 8,
   "metadata": {
    "ExecuteTime": {
     "end_time": "2019-02-05T14:27:05.551000+01:00",
     "start_time": "2019-02-05T13:27:05.548Z"
    }
   },
   "outputs": [],
   "source": [
    "l = 10 # number of lines in the grid-like graph\n",
    "c = 10 # number of columns in the grid-like graph\n",
    "k = 20 # number of edges the adversary can penalize\n",
    "maxc = 5 # range of initial edge cost\n",
    "maxd = 50 # range of penalized edge cost\n",
    "sv = generate(l, c, k, maxc, maxd);"
   ]
  },
  {
   "cell_type": "markdown",
   "metadata": {},
   "source": [
    "Création du modèle d'optimisation, ajout de l'objectif et des variables"
   ]
  },
  {
   "cell_type": "code",
   "execution_count": 24,
   "metadata": {
    "ExecuteTime": {
     "end_time": "2019-02-05T14:39:55.838000+01:00",
     "start_time": "2019-02-05T13:39:55.790Z"
    }
   },
   "outputs": [
    {
     "name": "stdout",
     "output_type": "stream",
     "text": [
      "Max pi[102] - pi[1]\n",
      "Subject to\n",
      " x[i,j] ∈ {0,1} ∀ i ∈ {1,2,…,101,102}, j ∈ {1,2,…,101,102}\n",
      " pi[i] ∀ i ∈ {1,2,…,101,102}\n"
     ]
    }
   ],
   "source": [
    "m = Model(solver=CbcSolver())\n",
    "\n",
    "@variable(m, x[1:sv.n, 1:sv.n], Bin)\n",
    "@variable(m, pi[1:sv.n])\n",
    "\n",
    "s, t = 1, sv.n # source and target nodes\n",
    "@objective(m, Max, pi[t] - pi[s])\n",
    "\n",
    "print(m)"
   ]
  },
  {
   "cell_type": "markdown",
   "metadata": {},
   "source": [
    "Ajout des contraintes"
   ]
  },
  {
   "cell_type": "markdown",
   "metadata": {},
   "source": [
    "Les variables $x_{uv}$ ne correspondant pas à des arcs sont nulles"
   ]
  },
  {
   "cell_type": "code",
   "execution_count": 31,
   "metadata": {
    "ExecuteTime": {
     "end_time": "2019-02-05T14:42:41.558000+01:00",
     "start_time": "2019-02-05T13:42:41.524Z"
    }
   },
   "outputs": [],
   "source": [
    "for u in 1:sv.n, v in 1:sv.n\n",
    "    if !sv.adj[u][v]\n",
    "        @constraint(m, x[u, v] == 0)\n",
    "    end\n",
    "end"
   ]
  },
  {
   "cell_type": "code",
   "execution_count": null,
   "metadata": {},
   "outputs": [],
   "source": []
  }
 ],
 "metadata": {
  "kernelspec": {
   "display_name": "Julia 1.0.3",
   "language": "julia",
   "name": "julia-1.0"
  },
  "language_info": {
   "file_extension": ".jl",
   "mimetype": "application/julia",
   "name": "julia",
   "version": "1.0.3"
  }
 },
 "nbformat": 4,
 "nbformat_minor": 2
}
