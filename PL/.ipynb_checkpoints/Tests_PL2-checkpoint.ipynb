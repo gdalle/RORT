{
 "cells": [
  {
   "cell_type": "code",
   "execution_count": 22,
   "metadata": {
    "ExecuteTime": {
     "end_time": "2019-02-12T16:56:03.265000+01:00",
     "start_time": "2019-02-12T15:56:03.083Z"
    }
   },
   "outputs": [
    {
     "name": "stdout",
     "output_type": "stream",
     "text": [
      "Dict(\"S\"=>[1, 2, 3, 4],\"MAXD\"=>[1, 2, 3, 4, 5, 6, 7, 8, 9, 10, 20, 30, 40, 50, 60, 70, 80, 90, 100],\"C\"=>[3, 4, 5, 6, 7, 8],\"MAXC\"=>[1, 2, 3, 4, 5, 6, 7, 8, 9, 10, 20, 30, 40, 50, 60, 70, 80, 90, 100],\"L\"=>[3, 4, 5, 6, 7, 8],\"K\"=>[1, 2, 3, 4, 5, 6, 7, 8, 9, 10, 12, 14, 16, 18, 20])"
     ]
    }
   ],
   "source": [
    "using DataFrames\n",
    "using CSV\n",
    "using CPLEX\n",
    "include(\"../instances_io.jl\")\n",
    "include(\"PL.jl\");\n",
    "include(\"../Heur/Heur.jl\")\n",
    "\n",
    "param_sets = Dict{String, Array{Int, 1}}()\n",
    "param_sets[\"L\"] = collect(3:8)\n",
    "param_sets[\"C\"] = collect(3:8)\n",
    "param_sets[\"K\"] = vcat(collect(1:10), collect(12:2:20))\n",
    "param_sets[\"S\"] = collect(1:4)\n",
    "param_sets[\"MAXC\"] = vcat(collect(1:10), collect(20:10:100))\n",
    "param_sets[\"MAXD\"] = vcat(collect(1:10), collect(20:10:100))\n",
    "\n",
    "print(param_sets)"
   ]
  },
  {
   "cell_type": "code",
   "execution_count": 23,
   "metadata": {
    "ExecuteTime": {
     "end_time": "2019-02-12T16:56:03.412000+01:00",
     "start_time": "2019-02-12T15:56:03.404Z"
    }
   },
   "outputs": [
    {
     "data": {
      "text/plain": [
       "50"
      ]
     },
     "execution_count": 23,
     "metadata": {},
     "output_type": "execute_result"
    }
   ],
   "source": [
    "# Default values\n",
    "l = 5\n",
    "c = 5\n",
    "k = 10\n",
    "s = 3\n",
    "maxc = 5\n",
    "maxd = 50"
   ]
  },
  {
   "cell_type": "code",
   "execution_count": 26,
   "metadata": {
    "ExecuteTime": {
     "end_time": "2019-02-12T16:59:10.035000+01:00",
     "start_time": "2019-02-12T15:59:01.274Z"
    }
   },
   "outputs": [
    {
     "name": "stderr",
     "output_type": "stream",
     "text": [
      "┌ Warning: Not solved to optimality, status: Infeasible\n",
      "└ @ JuMP /Users/guillaume/.julia/packages/JuMP/PbnIJ/src/solvers.jl:212\n",
      "┌ Warning: Infeasibility ray (Farkas proof) not available\n",
      "└ @ JuMP /Users/guillaume/.julia/packages/JuMP/PbnIJ/src/solvers.jl:223\n",
      "┌ Warning: Not solved to optimality, status: Infeasible\n",
      "└ @ JuMP /Users/guillaume/.julia/packages/JuMP/PbnIJ/src/solvers.jl:212\n",
      "┌ Warning: Infeasibility ray (Farkas proof) not available\n",
      "└ @ JuMP /Users/guillaume/.julia/packages/JuMP/PbnIJ/src/solvers.jl:223\n",
      "┌ Warning: Not solved to optimality, status: Infeasible\n",
      "└ @ JuMP /Users/guillaume/.julia/packages/JuMP/PbnIJ/src/solvers.jl:212\n",
      "┌ Warning: Infeasibility ray (Farkas proof) not available\n",
      "└ @ JuMP /Users/guillaume/.julia/packages/JuMP/PbnIJ/src/solvers.jl:223\n",
      "┌ Warning: Not solved to optimality, status: Infeasible\n",
      "└ @ JuMP /Users/guillaume/.julia/packages/JuMP/PbnIJ/src/solvers.jl:212\n",
      "┌ Warning: Infeasibility ray (Farkas proof) not available\n",
      "└ @ JuMP /Users/guillaume/.julia/packages/JuMP/PbnIJ/src/solvers.jl:223\n",
      "┌ Warning: Not solved to optimality, status: Infeasible\n",
      "└ @ JuMP /Users/guillaume/.julia/packages/JuMP/PbnIJ/src/solvers.jl:212\n",
      "┌ Warning: Infeasibility ray (Farkas proof) not available\n",
      "└ @ JuMP /Users/guillaume/.julia/packages/JuMP/PbnIJ/src/solvers.jl:223\n",
      "┌ Warning: Not solved to optimality, status: Infeasible\n",
      "└ @ JuMP /Users/guillaume/.julia/packages/JuMP/PbnIJ/src/solvers.jl:212\n",
      "┌ Warning: Infeasibility ray (Farkas proof) not available\n",
      "└ @ JuMP /Users/guillaume/.julia/packages/JuMP/PbnIJ/src/solvers.jl:223\n",
      "┌ Warning: Not solved to optimality, status: Infeasible\n",
      "└ @ JuMP /Users/guillaume/.julia/packages/JuMP/PbnIJ/src/solvers.jl:212\n",
      "┌ Warning: Infeasibility ray (Farkas proof) not available\n",
      "└ @ JuMP /Users/guillaume/.julia/packages/JuMP/PbnIJ/src/solvers.jl:223\n"
     ]
    },
    {
     "ename": "InterruptException",
     "evalue": "InterruptException:",
     "output_type": "error",
     "traceback": [
      "InterruptException:",
      "",
      "Stacktrace:",
      " [1] #solve#120(::Bool, ::Bool, ::Bool, ::Base.Iterators.Pairs{Union{},Union{},Tuple{},NamedTuple{(),Tuple{}}}, ::Function, ::Model) at /Users/guillaume/.julia/packages/JuMP/PbnIJ/src/solvers.jl:175",
      " [2] #solve at ./none:0 [inlined]",
      " [3] solve_PL2(::Data, ::CplexSolver) at /Users/guillaume/Google Drive/Cours M2/MPRO/RORT/RORT/PL/PL.jl:58",
      " [4] macro expansion at ./util.jl:213 [inlined]",
      " [5] top-level scope at ./In[26]:30"
     ]
    }
   ],
   "source": [
    "df = DataFrame(\n",
    "    method=String[],\n",
    "    param=String[],\n",
    "    param_value=Int[],\n",
    "    iteration=Int[],\n",
    "    time=Float64[],\n",
    "    cuts=Int[]\n",
    ")\n",
    "\n",
    "for param in [\"L\", \"C\", \"K\", \"S\", \"MAXC\", \"MAXD\"]\n",
    "    for param_value in param_sets[param]\n",
    "        for iteration in 1:3\n",
    "            \n",
    "            if param == \"L\"\n",
    "                sv = generate(param_value, c, k, s, maxc, maxd)\n",
    "            elseif param == \"C\"\n",
    "                sv = generate(l, param_value, k, s, maxc, maxd)\n",
    "            elseif param == \"K\"\n",
    "                sv = generate(l, c, param_value, s, maxc, maxd)\n",
    "            elseif param == \"S\"\n",
    "                sv = generate(l, c, k, param_value, maxc, maxd)\n",
    "            elseif param == \"MAXC\"\n",
    "                sv = generate(l, c, k, s, param_value, maxd)\n",
    "            elseif param == \"MAXD\"\n",
    "                sv = generate(l, c, k, s, maxc, param_value)\n",
    "            end\n",
    "            \n",
    "            time = @elapsed obj, x_opt = solve_PL1(sv, CplexSolver(CPX_PARAM_SCRIND=0))\n",
    "            push!(df, (\"PL1\", param, param_value, iteration, time, 0))\n",
    "            time = @elapsed obj, x_opt, cuts = solve_PL2(sv, CplexSolver(CPX_PARAM_SCRIND=0))\n",
    "            push!(df, (\"PL2\", param, param_value, iteration, time, cuts))\n",
    "            time = @elapsed obj, x_opt, cuts = solve_PL3(sv, CplexSolver(CPX_PARAM_SCRIND=0))\n",
    "            push!(df, (\"PL3\", param, param_value, iteration, time, cuts))\n",
    "            time = @elapsed obj, x_opt = tree_search(sv, 100)\n",
    "            push!(df, (\"MCTS\", param, param_value, iteration, time, 0))\n",
    "            \n",
    "        end\n",
    "        \n",
    "        CSV.write(\"Results.csv\", df)\n",
    "\n",
    "    end\n",
    "end"
   ]
  },
  {
   "cell_type": "code",
   "execution_count": null,
   "metadata": {},
   "outputs": [],
   "source": []
  }
 ],
 "metadata": {
  "kernelspec": {
   "display_name": "Julia 1.0.3",
   "language": "julia",
   "name": "julia-1.0"
  },
  "language_info": {
   "file_extension": ".jl",
   "mimetype": "application/julia",
   "name": "julia",
   "version": "1.0.3"
  }
 },
 "nbformat": 4,
 "nbformat_minor": 2
}
