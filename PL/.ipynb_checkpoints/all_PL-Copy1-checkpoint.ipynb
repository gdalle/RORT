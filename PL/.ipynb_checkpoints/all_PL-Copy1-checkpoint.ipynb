{
 "cells": [
  {
   "cell_type": "markdown",
   "metadata": {},
   "source": [
    "# Interdiction de plus courts chemins"
   ]
  },
  {
   "cell_type": "markdown",
   "metadata": {},
   "source": [
    "MPRO 2018/2018 - RORT\n",
    "\n",
    "*Guillaume CROGNIER, Guillaume DALLE, Olivier RIGAL*"
   ]
  },
  {
   "cell_type": "markdown",
   "metadata": {
    "ExecuteTime": {
     "end_time": "2019-02-12T14:19:53.449000+01:00",
     "start_time": "2019-02-12T13:19:52.025Z"
    }
   },
   "source": [
    "_____________"
   ]
  },
  {
   "cell_type": "markdown",
   "metadata": {},
   "source": [
    "Importer les packages nécessaires"
   ]
  },
  {
   "cell_type": "code",
   "execution_count": 1,
   "metadata": {
    "ExecuteTime": {
     "end_time": "2019-02-12T14:58:43.579000+01:00",
     "start_time": "2019-02-12T13:58:39.107Z"
    }
   },
   "outputs": [],
   "source": [
    "using Random; Random.seed!(63);\n",
    "using MathProgBase\n",
    "using JuMP\n",
    "using Cbc"
   ]
  },
  {
   "cell_type": "markdown",
   "metadata": {},
   "source": [
    "Importer le générateur d'instances et les outils de graphes"
   ]
  },
  {
   "cell_type": "code",
   "execution_count": 2,
   "metadata": {
    "ExecuteTime": {
     "end_time": "2019-02-12T14:58:45.911000+01:00",
     "start_time": "2019-02-12T13:58:39.839Z"
    }
   },
   "outputs": [],
   "source": [
    "include(\"../instances_io.jl\")\n",
    "include(\"../graph_tools.jl\");"
   ]
  },
  {
   "cell_type": "markdown",
   "metadata": {},
   "source": [
    "Génération de l'instance"
   ]
  },
  {
   "cell_type": "code",
   "execution_count": 10,
   "metadata": {
    "ExecuteTime": {
     "end_time": "2019-02-12T15:02:24.296000+01:00",
     "start_time": "2019-02-12T14:02:24.195Z"
    }
   },
   "outputs": [],
   "source": [
    "Random.seed!(63);\n",
    "l = 5 # number of lines in the grid-like graph\n",
    "c = 5 # number of columns in the grid-like graph\n",
    "k = 10 # number of edges the adversary can penalize\n",
    "maxc = 5 # range of initial edge cost\n",
    "maxd = 50 # range of penalized edge cost\n",
    "sv = generate(l, c, k, maxc, maxd);"
   ]
  },
  {
   "cell_type": "markdown",
   "metadata": {},
   "source": [
    "## 1. Partie programmation linéaire"
   ]
  },
  {
   "cell_type": "code",
   "execution_count": 26,
   "metadata": {
    "ExecuteTime": {
     "end_time": "2019-02-12T15:07:10.501000+01:00",
     "start_time": "2019-02-12T14:07:10.407Z"
    }
   },
   "outputs": [],
   "source": [
    "include(\"PL.jl\");"
   ]
  },
  {
   "cell_type": "code",
   "execution_count": 27,
   "metadata": {
    "ExecuteTime": {
     "end_time": "2019-02-12T15:07:14.858000+01:00",
     "start_time": "2019-02-12T14:07:14.290Z"
    }
   },
   "outputs": [
    {
     "data": {
      "text/plain": [
       "(33.000000000003, x: 1 dimensions:\n",
       "[  (1, 2)] = 1.0\n",
       "[  (1, 3)] = 1.0\n",
       "[  (1, 4)] = 1.0\n",
       "[  (1, 5)] = 1.0\n",
       "[  (1, 6)] = 1.0\n",
       "[  (2, 7)] = 1.0\n",
       "[  (2, 8)] = 1.0\n",
       "[  (3, 7)] = 0.0\n",
       "[  (3, 8)] = 0.0\n",
       "[  (3, 9)] = 0.0\n",
       "[  (4, 8)] = 0.0\n",
       "[  (4, 9)] = 0.0\n",
       "[ (4, 10)] = 0.0\n",
       "[  (5, 9)] = 0.0\n",
       "[ (5, 10)] = 0.0\n",
       "[ (5, 11)] = 0.0\n",
       "[ (6, 10)] = 0.0\n",
       "[ (6, 11)] = 0.0\n",
       "[  (7, 8)] = 0.0\n",
       "[ (7, 12)] = 0.0\n",
       "[ (7, 13)] = 0.0\n",
       "[  (8, 7)] = 0.0\n",
       "[  (8, 9)] = 0.0\n",
       "[ (8, 12)] = 0.0\n",
       "[ (8, 13)] = 0.0\n",
       "[ (8, 14)] = 0.0\n",
       "[  (9, 8)] = 0.0\n",
       "[ (9, 10)] = 0.0\n",
       "[ (9, 13)] = 0.0\n",
       "[ (9, 14)] = 0.0\n",
       "[ (9, 15)] = 0.0\n",
       "[ (10, 9)] = 0.0\n",
       "[(10, 11)] = 0.0\n",
       "[(10, 14)] = 0.0\n",
       "[(10, 15)] = 0.0\n",
       "[(10, 16)] = 0.0\n",
       "[(11, 10)] = 0.0\n",
       "[(11, 15)] = 0.0\n",
       "[(11, 16)] = 0.0\n",
       "[(12, 13)] = 0.0\n",
       "[(12, 17)] = 0.0\n",
       "[(12, 18)] = 0.0\n",
       "[(13, 12)] = 0.0\n",
       "[(13, 14)] = 0.0\n",
       "[(13, 17)] = 0.0\n",
       "[(13, 18)] = 0.0\n",
       "[(13, 19)] = 0.0\n",
       "[(14, 13)] = 0.0\n",
       "[(14, 15)] = 0.0\n",
       "[(14, 18)] = 0.0\n",
       "[(14, 19)] = 0.0\n",
       "[(14, 20)] = 0.0\n",
       "[(15, 14)] = 0.0\n",
       "[(15, 16)] = 0.0\n",
       "[(15, 19)] = 0.0\n",
       "[(15, 20)] = 0.0\n",
       "[(15, 21)] = 0.0\n",
       "[(16, 15)] = 0.0\n",
       "[(16, 20)] = 0.0\n",
       "[(16, 21)] = 0.0\n",
       "[(17, 18)] = 0.0\n",
       "[(17, 22)] = 0.0\n",
       "[(17, 23)] = 0.0\n",
       "[(18, 17)] = 0.0\n",
       "[(18, 19)] = 0.0\n",
       "[(18, 22)] = 0.0\n",
       "[(18, 23)] = 0.0\n",
       "[(18, 24)] = 0.0\n",
       "[(19, 18)] = 0.0\n",
       "[(19, 20)] = 0.0\n",
       "[(19, 23)] = 0.0\n",
       "[(19, 24)] = 0.0\n",
       "[(19, 25)] = 0.0\n",
       "[(20, 19)] = 0.0\n",
       "[(20, 21)] = 0.0\n",
       "[(20, 24)] = 0.0\n",
       "[(20, 25)] = 0.0\n",
       "[(20, 26)] = 0.0\n",
       "[(21, 20)] = 0.0\n",
       "[(21, 25)] = 0.0\n",
       "[(21, 26)] = 0.0\n",
       "[(22, 27)] = 1.0\n",
       "[(23, 27)] = 0.0\n",
       "[(24, 27)] = 0.9999999999999999\n",
       "[(25, 27)] = 1.0\n",
       "[(26, 27)] = 0.0, [-9.15582e10, -9.15582e10, -9.15582e10, -9.15582e10, -9.15582e10, -9.15582e10, -9.15582e10, -9.15582e10, -9.15582e10, -9.15582e10  …  -9.15582e10, -9.15582e10, -9.15582e10, -9.15582e10, -9.15582e10, -9.15582e10, -9.15582e10, -9.15582e10, -9.15582e10, -9.15582e10])"
      ]
     },
     "execution_count": 27,
     "metadata": {},
     "output_type": "execute_result"
    }
   ],
   "source": [
    "solve_PL1(sv, CbcSolver())"
   ]
  },
  {
   "cell_type": "code",
   "execution_count": 24,
   "metadata": {
    "ExecuteTime": {
     "end_time": "2019-02-12T15:06:33.038000+01:00",
     "start_time": "2019-02-12T14:06:28.955Z"
    }
   },
   "outputs": [
    {
     "name": "stdout",
     "output_type": "stream",
     "text": [
      "8.0 <= value <= 1.0e8\n",
      "9.0 <= value <= 198.0\n",
      "11.0 <= value <= 157.0\n",
      "11.0 <= value <= 128.0\n",
      "12.0 <= value <= 100.0\n",
      "12.0 <= value <= 89.0\n",
      "13.0 <= value <= 89.0\n",
      "12.0 <= value <= 76.0\n",
      "12.0 <= value <= 72.0\n",
      "15.0 <= value <= 63.0\n",
      "16.0 <= value <= 59.0\n",
      "17.0 <= value <= 59.0\n",
      "11.0 <= value <= 52.0\n",
      "10.0 <= value <= 51.0\n",
      "11.0 <= value <= 48.0\n",
      "12.0 <= value <= 48.0\n",
      "12.0 <= value <= 48.0\n",
      "14.0 <= value <= 46.0\n",
      "12.0 <= value <= 46.0\n"
     ]
    },
    {
     "ename": "ErrorException",
     "evalue": "Internal error: Unrecognized solution status",
     "output_type": "error",
     "traceback": [
      "Internal error: Unrecognized solution status",
      "",
      "Stacktrace:",
      " [1] error(::String) at ./error.jl:33",
      " [2] status(::Cbc.CbcMathProgSolverInterface.CbcMathProgModel) at /Users/guillaume/.julia/packages/Cbc/Jx1MC/src/MPB_wrapper.jl:168",
      " [3] #solve#120(::Bool, ::Bool, ::Bool, ::Base.Iterators.Pairs{Union{},Union{},Tuple{},NamedTuple{(),Tuple{}}}, ::Function, ::Model) at /Users/guillaume/.julia/packages/JuMP/PbnIJ/src/solvers.jl:176",
      " [4] #solve at ./none:0 [inlined]",
      " [5] solve_PL2(::Data) at /Users/guillaume/Google Drive/Cours M2/MPRO/RORT/RORT/PL/PL.jl:52",
      " [6] top-level scope at In[24]:1"
     ]
    }
   ],
   "source": [
    "solve_PL2(sv, CbcSolver())"
   ]
  },
  {
   "cell_type": "code",
   "execution_count": 25,
   "metadata": {
    "ExecuteTime": {
     "end_time": "2019-02-12T15:06:35.037000+01:00",
     "start_time": "2019-02-12T14:06:34.807Z"
    }
   },
   "outputs": [
    {
     "name": "stderr",
     "output_type": "stream",
     "text": [
      "┌ Warning: Not solved to optimality, status: Infeasible\n",
      "└ @ JuMP /Users/guillaume/.julia/packages/JuMP/PbnIJ/src/solvers.jl:212\n",
      "┌ Warning: Infeasibility ray (Farkas proof) not available\n",
      "└ @ JuMP /Users/guillaume/.julia/packages/JuMP/PbnIJ/src/solvers.jl:223\n"
     ]
    },
    {
     "data": {
      "text/plain": [
       "(Tuple{Int64,Int64}[(1, 2), (1, 3), (1, 4), (1, 5), (1, 6), (22, 27)], Inf32)"
      ]
     },
     "execution_count": 25,
     "metadata": {},
     "output_type": "execute_result"
    }
   ],
   "source": [
    "solve_PL3(sv, CbcSolver())"
   ]
  },
  {
   "cell_type": "code",
   "execution_count": null,
   "metadata": {},
   "outputs": [],
   "source": []
  }
 ],
 "metadata": {
  "kernelspec": {
   "display_name": "Julia 1.0.3",
   "language": "julia",
   "name": "julia-1.0"
  },
  "language_info": {
   "file_extension": ".jl",
   "mimetype": "application/julia",
   "name": "julia",
   "version": "1.0.3"
  }
 },
 "nbformat": 4,
 "nbformat_minor": 2
}
