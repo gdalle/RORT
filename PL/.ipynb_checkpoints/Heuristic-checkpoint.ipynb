{
 "cells": [
  {
   "cell_type": "markdown",
   "metadata": {},
   "source": [
    "# Interdiction de plus courts chemins"
   ]
  },
  {
   "cell_type": "markdown",
   "metadata": {},
   "source": [
    "MPRO 2018/2018 - RORT\n",
    "\n",
    "*Guillaume CROGNIER, Guillaume DALLE, Olivier RIGAL*"
   ]
  },
  {
   "cell_type": "markdown",
   "metadata": {},
   "source": [
    "## 2. Partie heuristique"
   ]
  },
  {
   "cell_type": "markdown",
   "metadata": {},
   "source": [
    "Installer les packages nécessaires"
   ]
  },
  {
   "cell_type": "code",
   "execution_count": 14,
   "metadata": {
    "ExecuteTime": {
     "end_time": "2019-02-05T16:07:16.176000+01:00",
     "start_time": "2019-02-05T15:07:16.173Z"
    }
   },
   "outputs": [],
   "source": [
    "using Pkg\n",
    "# Pkg.update()"
   ]
  },
  {
   "cell_type": "markdown",
   "metadata": {},
   "source": [
    "Importer les packages nécessaires"
   ]
  },
  {
   "cell_type": "code",
   "execution_count": 15,
   "metadata": {
    "ExecuteTime": {
     "end_time": "2019-02-05T16:07:20.667000+01:00",
     "start_time": "2019-02-05T15:07:16.812Z"
    }
   },
   "outputs": [
    {
     "name": "stderr",
     "output_type": "stream",
     "text": [
      "┌ Info: Precompiling SimpleWeightedGraphs [47aef6b3-ad0c-573a-a1e2-d07658019622]\n",
      "└ @ Base loading.jl:1192\n"
     ]
    }
   ],
   "source": [
    "using Random\n",
    "using LightGraphs, SimpleWeightedGraphs"
   ]
  },
  {
   "cell_type": "markdown",
   "metadata": {},
   "source": [
    "Définir une graine aléatoire pour des expériences reproductibles"
   ]
  },
  {
   "cell_type": "code",
   "execution_count": 16,
   "metadata": {
    "ExecuteTime": {
     "end_time": "2019-02-05T16:07:20.668000+01:00",
     "start_time": "2019-02-05T15:07:18.883Z"
    }
   },
   "outputs": [],
   "source": [
    "Random.seed!(63);"
   ]
  },
  {
   "cell_type": "markdown",
   "metadata": {},
   "source": [
    "Importer le générateur d'instances"
   ]
  },
  {
   "cell_type": "code",
   "execution_count": 17,
   "metadata": {
    "ExecuteTime": {
     "end_time": "2019-02-05T16:07:20.696000+01:00",
     "start_time": "2019-02-05T15:07:19.719Z"
    }
   },
   "outputs": [],
   "source": [
    "include(\"instances_io.jl\");"
   ]
  },
  {
   "cell_type": "markdown",
   "metadata": {},
   "source": [
    "Génération de l'instance"
   ]
  },
  {
   "cell_type": "code",
   "execution_count": 18,
   "metadata": {
    "ExecuteTime": {
     "end_time": "2019-02-05T16:07:20.787000+01:00",
     "start_time": "2019-02-05T15:07:20.540Z"
    }
   },
   "outputs": [],
   "source": [
    "l = 5 # number of lines in the grid-like graph\n",
    "c = 5 # number of columns in the grid-like graph\n",
    "k = 10 # number of edges the adversary can penalize\n",
    "maxc = 5 # range of initial edge cost\n",
    "maxd = 50 # range of penalized edge cost\n",
    "sv = generate(l, c, k, maxc, maxd);"
   ]
  },
  {
   "cell_type": "markdown",
   "metadata": {},
   "source": [
    "Liste des arcs"
   ]
  },
  {
   "cell_type": "code",
   "execution_count": 48,
   "metadata": {
    "ExecuteTime": {
     "end_time": "2019-02-05T16:20:12.040000+01:00",
     "start_time": "2019-02-05T15:20:12.003Z"
    }
   },
   "outputs": [
    {
     "data": {
      "text/plain": [
       "get_arcs (generic function with 1 method)"
      ]
     },
     "execution_count": 48,
     "metadata": {},
     "output_type": "execute_result"
    }
   ],
   "source": [
    "function get_arcs(sv::Data)\n",
    "    arcs::Array{Tuple{Int64, Int64}, 1} = []\n",
    "    for u in 1:sv.n, v in 1:sv.n\n",
    "        if sv.adj[u][v]\n",
    "            push!(arcs, (u, v))\n",
    "        end\n",
    "    end\n",
    "    return arcs\n",
    "end"
   ]
  },
  {
   "cell_type": "code",
   "execution_count": 58,
   "metadata": {
    "ExecuteTime": {
     "end_time": "2019-02-05T16:27:06.739000+01:00",
     "start_time": "2019-02-05T15:27:06.701Z"
    }
   },
   "outputs": [
    {
     "data": {
      "text/plain": [
       "shortest_path_cost (generic function with 3 methods)"
      ]
     },
     "execution_count": 58,
     "metadata": {},
     "output_type": "execute_result"
    }
   ],
   "source": [
    "using LightGraphs, SimpleWeightedGraphs\n",
    "\n",
    "function shortest_path(sv::Data, x::Dict{Tuple{Int64,Int64}, Int64})\n",
    "    g = SimpleWeightedGraph(sv.n)\n",
    "    for (u, v) in get_arcs(sv)\n",
    "        penalized = get(x, (u, v), 0)\n",
    "        cost = sv.c[u][v] + penalized * sv.d[u][v]\n",
    "        add_edge!(g, u, v, cost)\n",
    "    end\n",
    "    sp = dijkstra_shortest_paths(g, 1)\n",
    "    path_cost = sp.dists[sv.n]\n",
    "    path = []\n",
    "    next_node = sv.n\n",
    "    while next_node != 0\n",
    "        prepend!(path, next_node)\n",
    "        next_node = sp.parents[next_node]\n",
    "    end\n",
    "    return path_cost, path\n",
    "end"
   ]
  },
  {
   "cell_type": "code",
   "execution_count": 59,
   "metadata": {
    "ExecuteTime": {
     "end_time": "2019-02-05T16:27:09.745000+01:00",
     "start_time": "2019-02-05T15:27:09.727Z"
    }
   },
   "outputs": [],
   "source": [
    "for (u, v) in get_arcs(sv)\n",
    "    x[(u, v)] = 1\n",
    "end"
   ]
  },
  {
   "cell_type": "code",
   "execution_count": 61,
   "metadata": {
    "ExecuteTime": {
     "end_time": "2019-02-05T16:27:16.258000+01:00",
     "start_time": "2019-02-05T15:27:16.254Z"
    }
   },
   "outputs": [
    {
     "data": {
      "text/plain": [
       "9-element Array{Any,1}:\n",
       "  1\n",
       "  2\n",
       "  8\n",
       "  9\n",
       " 10\n",
       " 15\n",
       " 21\n",
       " 25\n",
       " 27"
      ]
     },
     "execution_count": 61,
     "metadata": {},
     "output_type": "execute_result"
    }
   ],
   "source": [
    "shortest_path_cost(sv, x)[2]"
   ]
  },
  {
   "cell_type": "code",
   "execution_count": null,
   "metadata": {},
   "outputs": [],
   "source": [
    "rand()"
   ]
  },
  {
   "cell_type": "code",
   "execution_count": null,
   "metadata": {},
   "outputs": [],
   "source": [
    "function random_branch(\n",
    "        sv::Data,\n",
    "        k::Int64,\n",
    "        p::Int64,\n",
    "        arcs_order::Array{Tuple{Int64, Int64}, 1},\n",
    "        x::Dict{Tuple{Int64,Int64}, Int64}, \n",
    "    )\n",
    "    \n",
    "    "
   ]
  }
 ],
 "metadata": {
  "kernelspec": {
   "display_name": "Julia 1.0.3",
   "language": "julia",
   "name": "julia-1.0"
  },
  "language_info": {
   "file_extension": ".jl",
   "mimetype": "application/julia",
   "name": "julia",
   "version": "1.0.3"
  }
 },
 "nbformat": 4,
 "nbformat_minor": 2
}
