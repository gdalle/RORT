{
 "cells": [
  {
   "cell_type": "markdown",
   "metadata": {},
   "source": [
    "# Interdiction de plus courts chemins"
   ]
  },
  {
   "cell_type": "markdown",
   "metadata": {},
   "source": [
    "MPRO 2018/2018 - RORT\n",
    "\n",
    "*Guillaume CROGNIER, Guillaume DALLE, Olivier RIGAL*"
   ]
  },
  {
   "cell_type": "markdown",
   "metadata": {
    "ExecuteTime": {
     "end_time": "2019-02-12T14:19:53.449000+01:00",
     "start_time": "2019-02-12T13:19:52.025Z"
    }
   },
   "source": [
    "_____________"
   ]
  },
  {
   "cell_type": "code",
   "execution_count": 1,
   "metadata": {
    "ExecuteTime": {
     "end_time": "2019-02-12T15:42:47.970000+01:00",
     "start_time": "2019-02-12T14:42:46.326Z"
    }
   },
   "outputs": [],
   "source": [
    "using Random; Random.seed!(63);"
   ]
  },
  {
   "cell_type": "markdown",
   "metadata": {},
   "source": [
    "Importer le générateur d'instances et les outils de graphes"
   ]
  },
  {
   "cell_type": "code",
   "execution_count": 2,
   "metadata": {
    "ExecuteTime": {
     "end_time": "2019-02-12T15:42:51.852000+01:00",
     "start_time": "2019-02-12T14:42:46.329Z"
    }
   },
   "outputs": [],
   "source": [
    "include(\"../instances_io.jl\")\n",
    "include(\"../graph_tools.jl\");"
   ]
  },
  {
   "cell_type": "markdown",
   "metadata": {},
   "source": [
    "Génération de l'instance"
   ]
  },
  {
   "cell_type": "code",
   "execution_count": 3,
   "metadata": {
    "ExecuteTime": {
     "end_time": "2019-02-12T15:42:52.914000+01:00",
     "start_time": "2019-02-12T14:42:46.331Z"
    }
   },
   "outputs": [],
   "source": [
    "l = 5 # number of lines in the grid-like graph\n",
    "c = 5 # number of columns in the grid-like graph\n",
    "k = 10 # number of edges the adversary can penalize\n",
    "maxc = 5 # range of initial edge cost\n",
    "maxd = 50 # range of penalized edge cost\n",
    "sv = generate(l, c, k, maxc, maxd);"
   ]
  },
  {
   "cell_type": "markdown",
   "metadata": {},
   "source": [
    "## 2. Partie heuristiques"
   ]
  },
  {
   "cell_type": "code",
   "execution_count": 4,
   "metadata": {
    "ExecuteTime": {
     "end_time": "2019-02-12T15:42:53.109000+01:00",
     "start_time": "2019-02-12T14:42:46.333Z"
    }
   },
   "outputs": [],
   "source": [
    "include(\"Heur.jl\");"
   ]
  },
  {
   "cell_type": "code",
   "execution_count": 5,
   "metadata": {
    "ExecuteTime": {
     "end_time": "2019-02-12T15:42:55.042000+01:00",
     "start_time": "2019-02-12T14:42:46.336Z"
    }
   },
   "outputs": [
    {
     "data": {
      "text/plain": [
       "(14.0, Dict((24, 27)=>1,(14, 19)=>0,(15, 19)=>0,(20, 21)=>0,(13, 17)=>0,(16, 15)=>0,(10, 11)=>0,(8, 9)=>0,(13, 12)=>0,(10, 14)=>0…))"
      ]
     },
     "execution_count": 5,
     "metadata": {},
     "output_type": "execute_result"
    }
   ],
   "source": [
    "tree_search(sv, 100)"
   ]
  }
 ],
 "metadata": {
  "kernelspec": {
   "display_name": "Julia 1.0.3",
   "language": "julia",
   "name": "julia-1.0"
  },
  "language_info": {
   "file_extension": ".jl",
   "mimetype": "application/julia",
   "name": "julia",
   "version": "1.0.3"
  }
 },
 "nbformat": 4,
 "nbformat_minor": 2
}
