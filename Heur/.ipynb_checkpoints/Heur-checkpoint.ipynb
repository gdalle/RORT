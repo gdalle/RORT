{
 "cells": [
  {
   "cell_type": "markdown",
   "metadata": {},
   "source": [
    "# Interdiction de plus courts chemins"
   ]
  },
  {
   "cell_type": "markdown",
   "metadata": {},
   "source": [
    "MPRO 2018/2018 - RORT\n",
    "\n",
    "*Guillaume CROGNIER, Guillaume DALLE, Olivier RIGAL*"
   ]
  },
  {
   "cell_type": "markdown",
   "metadata": {
    "ExecuteTime": {
     "end_time": "2019-02-12T14:19:53.449000+01:00",
     "start_time": "2019-02-12T13:19:52.025Z"
    }
   },
   "source": [
    "_____________"
   ]
  },
  {
   "cell_type": "code",
   "execution_count": 1,
   "metadata": {
    "ExecuteTime": {
     "end_time": "2019-02-26T16:18:57.131000+01:00",
     "start_time": "2019-02-26T15:18:55.731Z"
    }
   },
   "outputs": [],
   "source": [
    "using Random; Random.seed!(63);"
   ]
  },
  {
   "cell_type": "markdown",
   "metadata": {},
   "source": [
    "Importer le générateur d'instances et les outils de graphes"
   ]
  },
  {
   "cell_type": "code",
   "execution_count": 2,
   "metadata": {
    "ExecuteTime": {
     "end_time": "2019-02-26T16:19:00.452000+01:00",
     "start_time": "2019-02-26T15:18:55.733Z"
    }
   },
   "outputs": [],
   "source": [
    "include(\"../instances_io.jl\")\n",
    "include(\"../graph_tools.jl\");"
   ]
  },
  {
   "cell_type": "markdown",
   "metadata": {},
   "source": [
    "Génération de l'instance"
   ]
  },
  {
   "cell_type": "code",
   "execution_count": 3,
   "metadata": {
    "ExecuteTime": {
     "end_time": "2019-02-26T16:19:01.493000+01:00",
     "start_time": "2019-02-26T15:18:55.734Z"
    }
   },
   "outputs": [],
   "source": [
    "l = 3 # number of lines in the grid-like graph\n",
    "c = 3 # number of columns in the grid-like graph\n",
    "k = 10 # number of edges the adversary can penalize\n",
    "maxc = 10 # range of initial edge cost\n",
    "maxd = 20 # range of penalized edge cost\n",
    "s = 3\n",
    "sv = generate(l, c, k, s, maxc, maxd);"
   ]
  },
  {
   "cell_type": "markdown",
   "metadata": {},
   "source": [
    "## 2. Partie heuristiques"
   ]
  },
  {
   "cell_type": "code",
   "execution_count": 4,
   "metadata": {
    "ExecuteTime": {
     "end_time": "2019-02-26T16:19:01.684000+01:00",
     "start_time": "2019-02-26T15:18:55.735Z"
    }
   },
   "outputs": [],
   "source": [
    "include(\"Heur.jl\");"
   ]
  },
  {
   "cell_type": "code",
   "execution_count": 14,
   "metadata": {
    "ExecuteTime": {
     "end_time": "2019-02-26T16:19:15.439000+01:00",
     "start_time": "2019-02-26T15:19:15.422Z"
    }
   },
   "outputs": [
    {
     "data": {
      "text/plain": [
       "(39.0, Dict((3, 6)=>0,(2, 6)=>1,(6, 9)=>0,(5, 6)=>0,(4, 6)=>1,(10, 11)=>1,(2, 5)=>0,(8, 11)=>1,(5, 9)=>0,(5, 10)=>1…))"
      ]
     },
     "execution_count": 14,
     "metadata": {},
     "output_type": "execute_result"
    }
   ],
   "source": [
    "cost, x = tree_search(sv, 10, true)"
   ]
  },
  {
   "cell_type": "code",
   "execution_count": 11,
   "metadata": {
    "ExecuteTime": {
     "end_time": "2019-02-26T16:19:10.525000+01:00",
     "start_time": "2019-02-26T15:19:10.516Z"
    }
   },
   "outputs": [
    {
     "data": {
      "text/plain": [
       "(35.0, Dict((3, 6)=>0,(2, 6)=>1,(6, 9)=>0,(5, 6)=>0,(10, 11)=>1,(4, 6)=>0,(2, 5)=>1,(8, 11)=>1,(4, 7)=>1,(5, 10)=>0…))"
      ]
     },
     "execution_count": 11,
     "metadata": {},
     "output_type": "execute_result"
    }
   ],
   "source": [
    "cost, x = tree_search(sv, 10, false)"
   ]
  }
 ],
 "metadata": {
  "kernelspec": {
   "display_name": "Julia 1.0.3",
   "language": "julia",
   "name": "julia-1.0"
  },
  "language_info": {
   "file_extension": ".jl",
   "mimetype": "application/julia",
   "name": "julia",
   "version": "1.0.3"
  }
 },
 "nbformat": 4,
 "nbformat_minor": 2
}
