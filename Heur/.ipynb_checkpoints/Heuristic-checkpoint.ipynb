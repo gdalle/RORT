{
 "cells": [
  {
   "cell_type": "markdown",
   "metadata": {},
   "source": [
    "# Interdiction de plus courts chemins"
   ]
  },
  {
   "cell_type": "markdown",
   "metadata": {},
   "source": [
    "MPRO 2018/2018 - RORT\n",
    "\n",
    "*Guillaume CROGNIER, Guillaume DALLE, Olivier RIGAL*"
   ]
  },
  {
   "cell_type": "markdown",
   "metadata": {},
   "source": [
    "## 2. Partie heuristique"
   ]
  },
  {
   "cell_type": "markdown",
   "metadata": {},
   "source": [
    "Installer les packages nécessaires"
   ]
  },
  {
   "cell_type": "code",
   "execution_count": 3,
   "metadata": {
    "ExecuteTime": {
     "end_time": "2019-02-05T17:06:19.601000+01:00",
     "start_time": "2019-02-05T16:06:19.530Z"
    }
   },
   "outputs": [],
   "source": [
    "using Pkg\n",
    "# Pkg.update()"
   ]
  },
  {
   "cell_type": "markdown",
   "metadata": {},
   "source": [
    "Importer les packages nécessaires"
   ]
  },
  {
   "cell_type": "code",
   "execution_count": 4,
   "metadata": {
    "ExecuteTime": {
     "end_time": "2019-02-05T17:06:20.440000+01:00",
     "start_time": "2019-02-05T16:06:20.113Z"
    }
   },
   "outputs": [
    {
     "ename": "ErrorException",
     "evalue": "could not open file /Users/guillaume/Google Drive/Cours M2/MPRO/RORT/RORT/Heur/graph_tools.jl",
     "output_type": "error",
     "traceback": [
      "could not open file /Users/guillaume/Google Drive/Cours M2/MPRO/RORT/RORT/Heur/graph_tools.jl",
      "",
      "Stacktrace:",
      " [1] include at ./boot.jl:317 [inlined]",
      " [2] include_relative(::Module, ::String) at ./loading.jl:1044",
      " [3] include(::Module, ::String) at ./sysimg.jl:29",
      " [4] include(::String) at ./client.jl:392",
      " [5] top-level scope at In[4]:2"
     ]
    }
   ],
   "source": [
    "include(\"instances_io.jl\");\n",
    "include(\"graph_tools.jl\")"
   ]
  },
  {
   "cell_type": "markdown",
   "metadata": {},
   "source": [
    "Définir une graine aléatoire pour des expériences reproductibles"
   ]
  },
  {
   "cell_type": "code",
   "execution_count": null,
   "metadata": {
    "ExecuteTime": {
     "end_time": "2019-02-05T16:37:36.037000+01:00",
     "start_time": "2019-02-05T15:37:36.032Z"
    }
   },
   "outputs": [],
   "source": [
    "using Random\n",
    "Random.seed!(63);"
   ]
  },
  {
   "cell_type": "markdown",
   "metadata": {},
   "source": [
    "Génération de l'instance"
   ]
  },
  {
   "cell_type": "code",
   "execution_count": null,
   "metadata": {
    "ExecuteTime": {
     "end_time": "2019-02-05T16:37:36.829000+01:00",
     "start_time": "2019-02-05T15:37:36.729Z"
    }
   },
   "outputs": [],
   "source": [
    "l = 5 # number of lines in the grid-like graph\n",
    "c = 5 # number of columns in the grid-like graph\n",
    "k = 10 # number of edges the adversary can penalize\n",
    "maxc = 5 # range of initial edge cost\n",
    "maxd = 50 # range of penalized edge cost\n",
    "sv = generate(l, c, k, maxc, maxd);"
   ]
  },
  {
   "cell_type": "code",
   "execution_count": null,
   "metadata": {
    "ExecuteTime": {
     "end_time": "2019-02-05T16:39:33.980000+01:00",
     "start_time": "2019-02-05T15:39:33.321Z"
    }
   },
   "outputs": [],
   "source": [
    "ordered_arcs = get_arcs(sv)"
   ]
  },
  {
   "cell_type": "code",
   "execution_count": 5,
   "metadata": {
    "ExecuteTime": {
     "end_time": "2019-02-05T17:11:28.339000+01:00",
     "start_time": "2019-02-05T16:11:28.230Z"
    }
   },
   "outputs": [
    {
     "data": {
      "text/plain": [
       "random_child (generic function with 1 method)"
      ]
     },
     "execution_count": 5,
     "metadata": {},
     "output_type": "execute_result"
    }
   ],
   "source": [
    "function random_child(ordered_arcs, x, k)\n",
    "    n_arcs = length(ordered_arcs)\n",
    "    n_fixed = length(x)\n",
    "    if (k <= 0) | (n_arcs == n_fixed)\n",
    "        return copy(x)\n",
    "    end\n",
    "    \n",
    "    left_to_penalize = rand(n_fixed+1:n_arcs, k)\n",
    "\n",
    "    x_completed = copy(x)\n",
    "    for (a, (u, v)) in enumerate(ordered_arcs[n_fixed+1:n_arcs])\n",
    "        if a in left_to_penalize\n",
    "            x_completed[(u, v)] = 1\n",
    "        else\n",
    "            x_completed[(u, v)] = 0\n",
    "        end\n",
    "    end\n",
    "    \n",
    "    return x_completed\n",
    "    \n",
    "end"
   ]
  },
  {
   "cell_type": "code",
   "execution_count": null,
   "metadata": {},
   "outputs": [],
   "source": [
    "function evaluate_subtree(ordered_arcs, x, k, p)\n",
    "    n_arcs = length(ordered_arcs)\n",
    "    n_fixed = length(x)\n",
    "    if (k <= 0) | (n_arcs == n_fixed)\n",
    "        return shortest_path(sv, x)[1]\n",
    "    else\n",
    "        children = [random_child(ordered_arcs, x, k) for child in 1:p]\n",
    "        mean_cost = [shortest_path(sv, x_completed)[1] for x_completed in children]\n",
    "        return mean_cost\n",
    "    end\n",
    "end"
   ]
  },
  {
   "cell_type": "code",
   "execution_count": null,
   "metadata": {
    "ExecuteTime": {
     "end_time": "2019-02-05T17:05:06.427000+01:00",
     "start_time": "2019-02-05T16:05:06.139Z"
    }
   },
   "outputs": [],
   "source": [
    "ordered_arcs = get_arcs(sv)\n",
    "x = Dict{Tuple{Int, Int}, Int}()\n",
    "k=5\n",
    "\n",
    "for next_arc in ordered_arcs\n",
    "    \n",
    "    x[next_arc] = 0\n",
    "    children_0 = [random_child(ordered_arcs, x, k) for c in 1:p]\n",
    "    mean_cost_0 = [shortest_path(sv, x_completed)[1] for x_completed in children_0]\n",
    "\n",
    "    x[next_arc] = 1\n",
    "    children_1 = [random_child(ordered_arcs, x, k) for c in 1:p]\n",
    "    mean_cost_1 = [shortest_path(sv, x_completed)[1] for x_completed in children_1]\n",
    "\n",
    "    if mean_cost_0 > mean_cost_1\n",
    "        x[next_arc] = 0\n",
    "    else\n",
    "        x[next_arc] = 1\n",
    "        k -= 1\n",
    "    end\n",
    "end\n"
   ]
  }
 ],
 "metadata": {
  "kernelspec": {
   "display_name": "Julia 1.0.3",
   "language": "julia",
   "name": "julia-1.0"
  },
  "language_info": {
   "file_extension": ".jl",
   "mimetype": "application/julia",
   "name": "julia",
   "version": "1.0.3"
  }
 },
 "nbformat": 4,
 "nbformat_minor": 2
}
