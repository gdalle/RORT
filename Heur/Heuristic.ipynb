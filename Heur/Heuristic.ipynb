{
 "cells": [
  {
   "cell_type": "markdown",
   "metadata": {},
   "source": [
    "# Interdiction de plus courts chemins"
   ]
  },
  {
   "cell_type": "markdown",
   "metadata": {},
   "source": [
    "MPRO 2018/2018 - RORT\n",
    "\n",
    "*Guillaume CROGNIER, Guillaume DALLE, Olivier RIGAL*"
   ]
  },
  {
   "cell_type": "markdown",
   "metadata": {},
   "source": [
    "## 2. Partie heuristique"
   ]
  },
  {
   "cell_type": "markdown",
   "metadata": {},
   "source": [
    "Installer les packages nécessaires"
   ]
  },
  {
   "cell_type": "code",
   "execution_count": 1,
   "metadata": {
    "ExecuteTime": {
     "end_time": "2019-02-05T17:28:12.397000+01:00",
     "start_time": "2019-02-05T16:28:11.146Z"
    }
   },
   "outputs": [],
   "source": [
    "using Pkg\n",
    "# Pkg.update()"
   ]
  },
  {
   "cell_type": "markdown",
   "metadata": {},
   "source": [
    "Importer les packages nécessaires"
   ]
  },
  {
   "cell_type": "code",
   "execution_count": 2,
   "metadata": {
    "ExecuteTime": {
     "end_time": "2019-02-05T17:28:15.362000+01:00",
     "start_time": "2019-02-05T16:28:11.147Z"
    }
   },
   "outputs": [
    {
     "data": {
      "text/plain": [
       "shortest_path (generic function with 1 method)"
      ]
     },
     "execution_count": 2,
     "metadata": {},
     "output_type": "execute_result"
    }
   ],
   "source": [
    "include(\"instances_io.jl\");\n",
    "include(\"graph_tools.jl\")"
   ]
  },
  {
   "cell_type": "code",
   "execution_count": 3,
   "metadata": {
    "ExecuteTime": {
     "end_time": "2019-02-05T17:28:16.078000+01:00",
     "start_time": "2019-02-05T16:28:11.149Z"
    }
   },
   "outputs": [],
   "source": [
    "using Statistics"
   ]
  },
  {
   "cell_type": "markdown",
   "metadata": {},
   "source": [
    "Définir une graine aléatoire pour des expériences reproductibles"
   ]
  },
  {
   "cell_type": "code",
   "execution_count": 4,
   "metadata": {
    "ExecuteTime": {
     "end_time": "2019-02-05T17:28:16.155000+01:00",
     "start_time": "2019-02-05T16:28:11.150Z"
    }
   },
   "outputs": [],
   "source": [
    "using Random\n",
    "Random.seed!(63);"
   ]
  },
  {
   "cell_type": "markdown",
   "metadata": {},
   "source": [
    "Génération de l'instance"
   ]
  },
  {
   "cell_type": "code",
   "execution_count": 5,
   "metadata": {
    "ExecuteTime": {
     "end_time": "2019-02-05T17:28:16.294000+01:00",
     "start_time": "2019-02-05T16:28:11.151Z"
    }
   },
   "outputs": [],
   "source": [
    "l = 5 # number of lines in the grid-like graph\n",
    "c = 5 # number of columns in the grid-like graph\n",
    "k = 10 # number of edges the adversary can penalize\n",
    "maxc = 5 # range of initial edge cost\n",
    "maxd = 50 # range of penalized edge cost\n",
    "sv = generate(l, c, k, maxc, maxd);"
   ]
  },
  {
   "cell_type": "markdown",
   "metadata": {},
   "source": [
    "Recherche arborescente"
   ]
  },
  {
   "cell_type": "code",
   "execution_count": 6,
   "metadata": {
    "ExecuteTime": {
     "end_time": "2019-02-05T17:28:16.469000+01:00",
     "start_time": "2019-02-05T16:28:11.152Z"
    }
   },
   "outputs": [
    {
     "data": {
      "text/plain": [
       "intelligent_arc_ordering (generic function with 1 method)"
      ]
     },
     "execution_count": 6,
     "metadata": {},
     "output_type": "execute_result"
    }
   ],
   "source": [
    "function intelligent_arc_ordering(sv::Data)\n",
    "    # Temporary\n",
    "    return get_arcs(sv)\n",
    "end"
   ]
  },
  {
   "cell_type": "code",
   "execution_count": 7,
   "metadata": {
    "ExecuteTime": {
     "end_time": "2019-02-05T17:28:16.631000+01:00",
     "start_time": "2019-02-05T16:28:11.153Z"
    }
   },
   "outputs": [
    {
     "data": {
      "text/plain": [
       "random_child (generic function with 1 method)"
      ]
     },
     "execution_count": 7,
     "metadata": {},
     "output_type": "execute_result"
    }
   ],
   "source": [
    "function random_child(ordered_arcs, x, k)\n",
    "    n_arcs = length(ordered_arcs)\n",
    "    n_fixed = length(x)\n",
    "    if (k <= 0) | (n_arcs == n_fixed)\n",
    "        return copy(x)\n",
    "    end\n",
    "    \n",
    "    left_to_penalize = rand(n_fixed+1:n_arcs, k)\n",
    "\n",
    "    x_completed = copy(x)\n",
    "    for (a, (u, v)) in enumerate(ordered_arcs[n_fixed+1:n_arcs])\n",
    "        if a in left_to_penalize\n",
    "            x_completed[(u, v)] = 1\n",
    "        else\n",
    "            x_completed[(u, v)] = 0\n",
    "        end\n",
    "    end\n",
    "    \n",
    "    return x_completed\n",
    "    \n",
    "end"
   ]
  },
  {
   "cell_type": "code",
   "execution_count": 8,
   "metadata": {
    "ExecuteTime": {
     "end_time": "2019-02-05T17:28:16.792000+01:00",
     "start_time": "2019-02-05T16:28:11.155Z"
    }
   },
   "outputs": [
    {
     "data": {
      "text/plain": [
       "evaluate_subtree (generic function with 1 method)"
      ]
     },
     "execution_count": 8,
     "metadata": {},
     "output_type": "execute_result"
    }
   ],
   "source": [
    "function evaluate_subtree(ordered_arcs, x, k, p)\n",
    "    if (k == 0) | (length(x) == length(ordered_arcs))\n",
    "        return shortest_path(sv, x)[1]\n",
    "    else\n",
    "        children = [random_child(ordered_arcs, x, k) for child in 1:p]\n",
    "        mean_cost = mean([shortest_path(sv, x_completed)[1] for x_completed in children])\n",
    "        return mean_cost\n",
    "    end\n",
    "end"
   ]
  },
  {
   "cell_type": "code",
   "execution_count": 9,
   "metadata": {
    "ExecuteTime": {
     "end_time": "2019-02-05T17:28:16.965000+01:00",
     "start_time": "2019-02-05T16:28:11.156Z"
    }
   },
   "outputs": [
    {
     "data": {
      "text/plain": [
       "tree_search (generic function with 1 method)"
      ]
     },
     "execution_count": 9,
     "metadata": {},
     "output_type": "execute_result"
    }
   ],
   "source": [
    "function tree_search(sv::Data, k::Int, p::Int)\n",
    "    ordered_arcs = intelligent_arc_ordering(sv)\n",
    "    x = Dict{Tuple{Int, Int}, Int}()\n",
    "\n",
    "    for next_arc in ordered_arcs\n",
    "\n",
    "        if k == 0\n",
    "            x[next_arc] = 0\n",
    "        else\n",
    "            x[next_arc] = 0\n",
    "            mean_cost_0 = evaluate_subtree(ordered_arcs, x, k, p)\n",
    "            x[next_arc] = 1\n",
    "            mean_cost_1 = evaluate_subtree(ordered_arcs, x, k-1, p)\n",
    "\n",
    "            if mean_cost_0 > mean_cost_1\n",
    "                x[next_arc] = 0\n",
    "            else\n",
    "                x[next_arc] = 1\n",
    "                k -= 1\n",
    "            end\n",
    "        end\n",
    "    end\n",
    "    \n",
    "    return shortest_path(sv, x)[1], x\n",
    "end"
   ]
  },
  {
   "cell_type": "code",
   "execution_count": 10,
   "metadata": {
    "ExecuteTime": {
     "end_time": "2019-02-05T17:28:18.370000+01:00",
     "start_time": "2019-02-05T16:28:11.158Z"
    }
   },
   "outputs": [
    {
     "data": {
      "text/plain": [
       "(13.0, Dict((14, 19)=>0,(24, 27)=>0,(15, 19)=>0,(20, 21)=>0,(13, 17)=>0,(16, 15)=>0,(10, 11)=>0,(8, 9)=>0,(13, 12)=>0,(10, 14)=>0…))"
      ]
     },
     "execution_count": 10,
     "metadata": {},
     "output_type": "execute_result"
    }
   ],
   "source": [
    "tree_search(sv, k, 100)"
   ]
  }
 ],
 "metadata": {
  "kernelspec": {
   "display_name": "Julia 1.0.3",
   "language": "julia",
   "name": "julia-1.0"
  },
  "language_info": {
   "file_extension": ".jl",
   "mimetype": "application/julia",
   "name": "julia",
   "version": "1.0.3"
  }
 },
 "nbformat": 4,
 "nbformat_minor": 2
}
